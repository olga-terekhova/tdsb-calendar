{
  "cells": [
    {
      "cell_type": "markdown",
      "metadata": {
        "id": "view-in-github",
        "colab_type": "text"
      },
      "source": [
        "<a href=\"https://colab.research.google.com/github/olga-terekhova/tdsb-calendar/blob/main/Integrate_Calendar_Template_PPTX.ipynb\" target=\"_parent\"><img src=\"https://colab.research.google.com/assets/colab-badge.svg\" alt=\"Open In Colab\"/></a>"
      ]
    },
    {
      "cell_type": "code",
      "execution_count": 121,
      "metadata": {
        "id": "Nv1Fw0DdoxY2"
      },
      "outputs": [],
      "source": [
        "\n",
        "# ------------------------\n",
        "# Parameters\n",
        "# ------------------------\n",
        "\n",
        "\n",
        "year = 2025\n",
        "month = 10\n",
        "workweek = 7 # try 5 for Mon–Fri only\n",
        "week_start=\"Sunday\" # or \"Monday\"\n",
        "\n",
        "\n",
        "fontname = \"Nunito Ultra-Bold\"\n",
        "fontpath = None # \"Nunito-ExtraBold.ttf\"\n",
        "\n",
        "font_width_coef = 0.8\n",
        "\n",
        "template_pptx = \"October-2025-Template.pptx\"\n",
        "output_pptx = \"calendar.pptx\"\n",
        "\n",
        "template_table_left_in = 0.32\n",
        "template_table_top_in = 1.79\n",
        "template_table_width_in = 10.36\n",
        "template_table_height_in = 6.41\n",
        "\n",
        "cell_left = 5\n",
        "cell_top = 5\n",
        "\n",
        "calendar_list = [\n",
        "    {\n",
        "        \"name\": \"NoSchoolDays\",\n",
        "        \"path\": \"calendar_no_school_days.ics\",\n",
        "        \"style\": {\n",
        "            \"bg_full_day\": \"#ffd1b3\",   # orange\n",
        "            \"fg_full_day\": \"#000000\",   # black\n",
        "            \"line_full_day\": \"#ffd1b3\",   # orange\n",
        "            \"bg_timed\": \"#ADD8E6\",      # light blue\n",
        "            \"fg_timed\": \"#000000\",      # black\n",
        "            \"line_timed\": \"#000000\",      # black\n",
        "            \"fontsize\": 14\n",
        "        }\n",
        "    },\n",
        "    {\n",
        "        \"name\": \"SchoolDays\",\n",
        "        \"path\": \"calendar_school_days.ics\",\n",
        "        \"style\": {\n",
        "            \"bg_full_day\":  \"#9fdfbf\",   # light green\n",
        "            \"fg_full_day\": \"#000000\",   # black\n",
        "            \"line_full_day\": \"#9fdfbf\",   # light green\n",
        "            \"bg_timed\": \"#FFB6C1\",      # light pink\n",
        "            \"fg_timed\": \"#000000\",      # black\n",
        "            \"line_timed\": \"#000000\",      # black\n",
        "            \"fontsize\": 14\n",
        "            }\n",
        "    },\n",
        "    {\n",
        "        \"name\": \"Daily\",\n",
        "        \"path\": \"calendar_schedule.ics\",\n",
        "        \"style\": {\n",
        "            \"bg_full_day\": \"#FFFFFF\",      # white\n",
        "            \"fg_full_day\": \"#000000\",   # black\n",
        "            \"line_full_day\": \"#9fdfbf\",   # light green\n",
        "            \"bg_timed\": \"#FFFFFF\",      # white\n",
        "            \"fg_timed\": \"#000000\",      # black\n",
        "            \"line_timed\": \"#9fdfbf\",   # light green\n",
        "            \"fontsize\": 14\n",
        "            }\n",
        "    }\n",
        "\n",
        "]\n",
        "\n"
      ]
    },
    {
      "cell_type": "code",
      "execution_count": 122,
      "metadata": {
        "colab": {
          "base_uri": "https://localhost:8080/"
        },
        "collapsed": true,
        "id": "XnWTTgIupIYF",
        "outputId": "2b372918-8009-421f-88fd-65d25b79e4c0"
      },
      "outputs": [
        {
          "output_type": "stream",
          "name": "stdout",
          "text": [
            "Requirement already satisfied: icalendar in /usr/local/lib/python3.12/dist-packages (6.3.1)\n",
            "Requirement already satisfied: pytz in /usr/local/lib/python3.12/dist-packages (2025.2)\n",
            "Requirement already satisfied: python-dateutil in /usr/local/lib/python3.12/dist-packages (from icalendar) (2.9.0.post0)\n",
            "Requirement already satisfied: tzdata in /usr/local/lib/python3.12/dist-packages (from icalendar) (2025.2)\n",
            "Requirement already satisfied: six>=1.5 in /usr/local/lib/python3.12/dist-packages (from python-dateutil->icalendar) (1.17.0)\n"
          ]
        }
      ],
      "source": [
        "!pip install icalendar pytz"
      ]
    },
    {
      "cell_type": "code",
      "source": [
        "!pip install python-pptx"
      ],
      "metadata": {
        "colab": {
          "base_uri": "https://localhost:8080/"
        },
        "id": "D3qNdERWkeYF",
        "outputId": "83a5fa82-51de-4388-ba35-2bfea0508456"
      },
      "execution_count": 123,
      "outputs": [
        {
          "output_type": "stream",
          "name": "stdout",
          "text": [
            "Requirement already satisfied: python-pptx in /usr/local/lib/python3.12/dist-packages (1.0.2)\n",
            "Requirement already satisfied: Pillow>=3.3.2 in /usr/local/lib/python3.12/dist-packages (from python-pptx) (11.3.0)\n",
            "Requirement already satisfied: XlsxWriter>=0.5.7 in /usr/local/lib/python3.12/dist-packages (from python-pptx) (3.2.9)\n",
            "Requirement already satisfied: lxml>=3.1.0 in /usr/local/lib/python3.12/dist-packages (from python-pptx) (5.4.0)\n",
            "Requirement already satisfied: typing-extensions>=4.9.0 in /usr/local/lib/python3.12/dist-packages (from python-pptx) (4.15.0)\n"
          ]
        }
      ]
    },
    {
      "cell_type": "code",
      "source": [
        "!pip install fonttools"
      ],
      "metadata": {
        "colab": {
          "base_uri": "https://localhost:8080/"
        },
        "id": "9nYXzmOcnIQe",
        "outputId": "6e0210d3-f636-4d52-b990-f95d349dbbaa"
      },
      "execution_count": 124,
      "outputs": [
        {
          "output_type": "stream",
          "name": "stdout",
          "text": [
            "Requirement already satisfied: fonttools in /usr/local/lib/python3.12/dist-packages (4.60.0)\n"
          ]
        }
      ]
    },
    {
      "cell_type": "code",
      "execution_count": 125,
      "metadata": {
        "id": "VdaNH7hXAkeK"
      },
      "outputs": [],
      "source": [
        "from datetime import datetime\n",
        "from pathlib import Path\n",
        "from icalendar import Calendar\n",
        "import calendar\n",
        "import pytz\n",
        "\n",
        "import os\n",
        "from collections import defaultdict\n",
        "\n",
        "from pptx import Presentation\n",
        "from pptx.util import Inches, Pt\n",
        "from pptx.dml.color import RGBColor\n",
        "from pptx.enum.shapes import MSO_SHAPE\n",
        "from pptx.enum.text import PP_ALIGN\n",
        "from pptx.oxml import parse_xml\n",
        "from pptx.oxml.ns import qn\n",
        "from pptx.oxml.ns import nsdecls\n",
        "\n",
        "from fontTools.ttLib import TTFont"
      ]
    },
    {
      "cell_type": "code",
      "execution_count": 126,
      "metadata": {
        "id": "5x2aeXAhm5IS"
      },
      "outputs": [],
      "source": [
        "def parse_ics_file(calendar, priority, year, month):\n",
        "    \"\"\"Parse events from one ICS file filtered by month/year.\"\"\"\n",
        "\n",
        "    events = []\n",
        "    with open(calendar[\"path\"], \"rb\") as f:\n",
        "        cal = Calendar.from_ical(f.read())\n",
        "        for component in cal.walk():\n",
        "            if component.name == \"VEVENT\":\n",
        "                start = component.get(\"DTSTART\").dt\n",
        "                summary = str(component.get(\"SUMMARY\"))\n",
        "                all_day = not isinstance(start, datetime)\n",
        "\n",
        "                if isinstance(start, datetime):\n",
        "                    start = start.astimezone(pytz.UTC) if start.tzinfo else start\n",
        "\n",
        "                if start.year == year and start.month == month:\n",
        "                    event_style = {\n",
        "                        \"fontsize\": calendar[\"style\"][\"fontsize\"],\n",
        "                        \"bg\": calendar[\"style\"][\"bg_full_day\"] if all_day else calendar[\"style\"][\"bg_timed\"],\n",
        "                        \"fg\": calendar[\"style\"][\"fg_full_day\"] if all_day else calendar[\"style\"][\"fg_timed\"],\n",
        "                        \"line\": calendar[\"style\"][\"line_full_day\"] if all_day else calendar[\"style\"][\"line_timed\"]\n",
        "                    }\n",
        "                    events.append({\n",
        "                        \"calendar_name\": calendar[\"name\"],\n",
        "                        \"calendar_order\": priority,\n",
        "                        \"day\": start.day,\n",
        "                        \"event_name\": summary,\n",
        "                        \"is_full_day\": all_day,\n",
        "                        \"time\": None if all_day else start.strftime(\"%H:%M\"),\n",
        "                        \"weekday\": start.strftime(\"%A\"),\n",
        "                        \"style\": event_style\n",
        "                    })\n",
        "    return events\n",
        "\n",
        "\n",
        "def collect_events(calendar_list, year, month):\n",
        "    \"\"\"Union events from all calendars with sorting.\"\"\"\n",
        "    all_events = []\n",
        "    for priority, calendar in enumerate(calendar_list):\n",
        "        all_events.extend(parse_ics_file(calendar, priority, year, month))\n",
        "\n",
        "    all_events.sort(\n",
        "        key=lambda e: (\n",
        "            e[\"day\"],\n",
        "            0 if e[\"is_full_day\"] else 1,\n",
        "            e[\"time\"] if e[\"time\"] else \"99:99\",\n",
        "            e[\"calendar_order\"]\n",
        "        )\n",
        "    )\n",
        "    return all_events\n",
        "\n"
      ]
    },
    {
      "cell_type": "code",
      "execution_count": 127,
      "metadata": {
        "id": "IeLSLCgw9wBG"
      },
      "outputs": [],
      "source": [
        "def calendar_layout(year, month, week_start=\"Monday\", workweek=7):\n",
        "    \"\"\"\n",
        "    Calculate the calendar grid layout for a monthly calendar.\n",
        "\n",
        "    Parameters\n",
        "    ----------\n",
        "    year : int\n",
        "        Year of the calendar.\n",
        "    month : int\n",
        "        Month of the calendar (1–12).\n",
        "    week_start : str\n",
        "        \"Monday\" or \"Sunday\" — only used when workweek=7.\n",
        "        If workweek=5, calendar always starts on Monday.\n",
        "    workweek : int\n",
        "        5 or 7 — number of days shown per row.\n",
        "\n",
        "    Returns\n",
        "    -------\n",
        "    layout : dict\n",
        "        {\n",
        "          \"rows\": int,\n",
        "          \"cols\": int,\n",
        "          \"mapping\": {day: (row, col), ...}\n",
        "        }\n",
        "    \"\"\"\n",
        "    if workweek not in (5, 7):\n",
        "        raise ValueError(\"workweek must be 5 or 7\")\n",
        "\n",
        "    # Python calendar: Monday=0 ... Sunday=6\n",
        "    first_weekday, num_days = calendar.monthrange(year, month)\n",
        "\n",
        "    mapping = {}\n",
        "    row = 0\n",
        "\n",
        "    if workweek == 7:\n",
        "        # Adjust start-of-week\n",
        "        start_idx = 0 if week_start == \"Monday\" else 6\n",
        "\n",
        "        for day in range(1, num_days + 1):\n",
        "            weekday = (first_weekday + (day - 1)) % 7\n",
        "            col = (weekday - start_idx) % 7\n",
        "            mapping[day] = (row, col)\n",
        "\n",
        "            if col == 6:\n",
        "                row += 1\n",
        "\n",
        "        cols = 7\n",
        "\n",
        "    else:  # workweek == 5 (always Monday–Friday)\n",
        "        for day in range(1, num_days + 1):\n",
        "            weekday = (first_weekday + (day - 1)) % 7\n",
        "            if weekday in (5, 6):  # Skip Saturday, Sunday\n",
        "                continue\n",
        "            col = weekday  # Monday=0 ... Friday=4\n",
        "            mapping[day] = (row, col)\n",
        "\n",
        "            if col == 4:\n",
        "                row += 1\n",
        "\n",
        "        cols = 5\n",
        "\n",
        "    rows = max(r for r, _ in mapping.values()) + 1 if mapping else 0\n",
        "\n",
        "    return {\"rows\": rows, \"cols\": cols, \"mapping\": mapping}\n",
        "\n",
        "\n"
      ]
    },
    {
      "cell_type": "code",
      "execution_count": 128,
      "metadata": {
        "id": "WtRbvt8vUlvb"
      },
      "outputs": [],
      "source": [
        "def hex_to_rgb(hex_color):\n",
        "    \"\"\"Convert hex string #RRGGBB to tuple of floats (r, g, b) in 0–1.\"\"\"\n",
        "    if not isinstance(hex_color, str):\n",
        "        return None\n",
        "    hex_color = hex_color.lstrip(\"#\")\n",
        "    if len(hex_color) != 6:\n",
        "        return None\n",
        "    try:\n",
        "        r = int(hex_color[0:2], 16) / 255\n",
        "        g = int(hex_color[2:4], 16) / 255\n",
        "        b = int(hex_color[4:6], 16) / 255\n",
        "        return (r, g, b)\n",
        "    except ValueError:\n",
        "        return None"
      ]
    },
    {
      "cell_type": "code",
      "execution_count": 129,
      "metadata": {
        "id": "v1EBQ-MDpkI8"
      },
      "outputs": [],
      "source": [
        "def get_font(font_path):\n",
        "    \"\"\"\n",
        "    Reads global variable `event_font` (path to TTF file).\n",
        "    Returns a dict with keys:\n",
        "      - \"custom\"   : bool, True if using custom TTF\n",
        "      - \"fontname\" : str, the system-recognized font family name\n",
        "      - \"font_obj\" : TTFont object\n",
        "    \"\"\"\n",
        "\n",
        "    # global event_font\n",
        "\n",
        "    if font_path and os.path.isfile(font_path):\n",
        "        # Parse the TTF file\n",
        "        font_obj = TTFont(font_path)\n",
        "\n",
        "        # Extract full font name (NameID 4 = Full font name)\n",
        "        name_records = font_obj['name'].names\n",
        "        fontname = None\n",
        "        for record in name_records:\n",
        "            if record.nameID == 4:  # Full font name\n",
        "                try:\n",
        "                    fontname = record.string.decode(record.getEncoding())\n",
        "                except UnicodeDecodeError:\n",
        "                    fontname = record.string.decode('utf-8', errors='ignore')\n",
        "                break\n",
        "        print(fontname)\n",
        "        if fontname is None:\n",
        "            fontname = os.path.basename(font_path).rsplit('.', 1)[0]\n",
        "        print(fontname)\n",
        "        return {\n",
        "            \"custom\": True,\n",
        "            \"fontname\": fontname,\n",
        "            \"font_obj\": font_obj\n",
        "        }\n",
        "    else:\n",
        "        # Fallback\n",
        "        return {\n",
        "            \"custom\": False,\n",
        "            \"fontname\": \"Calibri\",\n",
        "            \"font_obj\": None\n",
        "        }"
      ]
    },
    {
      "cell_type": "code",
      "source": [
        "res = get_font(\"Nunito-ExtraBold.ttf\")\n",
        "print(res)"
      ],
      "metadata": {
        "colab": {
          "base_uri": "https://localhost:8080/"
        },
        "id": "wAcEY6a4zaxA",
        "outputId": "efe8d07e-4b83-45ee-b97d-312c34a0959c"
      },
      "execution_count": 130,
      "outputs": [
        {
          "output_type": "stream",
          "name": "stdout",
          "text": [
            "Nunito ExtraBold\n",
            "Nunito ExtraBold\n",
            "{'custom': True, 'fontname': 'Nunito ExtraBold', 'font_obj': <fontTools.ttLib.ttFont.TTFont object at 0x7853e4a91970>}\n"
          ]
        }
      ]
    },
    {
      "cell_type": "code",
      "source": [
        "from PIL import ImageFont\n",
        "\n",
        "def measure_text_width(font_path, text, fontsize):\n",
        "    \"\"\"\n",
        "    Measure pixel width of `text` rendered in a TTF font using PIL.\n",
        "\n",
        "    Parameters\n",
        "    ----------\n",
        "    font_path : str\n",
        "        Path to the .ttf font file.\n",
        "    text : str\n",
        "        The text to measure.\n",
        "    fontsize : int\n",
        "        Font size in points.\n",
        "\n",
        "    Returns\n",
        "    -------\n",
        "    int\n",
        "        Text width in pixels.\n",
        "    \"\"\"\n",
        "    font = ImageFont.truetype(font_path, fontsize)  # first param = path to .ttf\n",
        "    bbox = font.getbbox(text)  # returns (x0, y0, x1, y1)\n",
        "    return bbox[2] - bbox[0]   # width\n"
      ],
      "metadata": {
        "id": "ZRgzMQ2izr17"
      },
      "execution_count": 131,
      "outputs": []
    },
    {
      "cell_type": "code",
      "source": [
        "res_m = measure_text_width(\"Nunito-ExtraBold.ttf\", \"Thanksgiving\", 14)\n",
        "print(res_m)"
      ],
      "metadata": {
        "colab": {
          "base_uri": "https://localhost:8080/"
        },
        "id": "zibcnSZ8zvFi",
        "outputId": "d74876ea-2bc5-495e-dc1e-a0b1dda86e24"
      },
      "execution_count": 132,
      "outputs": [
        {
          "output_type": "stream",
          "name": "stdout",
          "text": [
            "90\n"
          ]
        }
      ]
    },
    {
      "cell_type": "code",
      "source": [
        "# Conversion helpers: px-like → Inches\n",
        "def px_to_inches(px):\n",
        "        return px / 96.0   # assume 96 DPI\n",
        "\n",
        "# Conversion helpers: Inches → px-like\n",
        "def inches_to_px(inches):\n",
        "        return inches * 96.0   # assume 96 DPI"
      ],
      "metadata": {
        "id": "-Cb-916Ts3pU"
      },
      "execution_count": 133,
      "outputs": []
    },
    {
      "cell_type": "code",
      "source": [
        "def set_corner_radius(shape, corner_radius_val=10000):\n",
        "    \"\"\"\n",
        "    Adjust corner radius for a rounded rectangle shape.\n",
        "    corner_radius_val: int, 0..50000\n",
        "    \"\"\"\n",
        "    # DrawingML namespace\n",
        "    NS = \"http://schemas.openxmlformats.org/drawingml/2006/main\"\n",
        "\n",
        "    spPr = shape.element.spPr\n",
        "    prstGeom = spPr.find(f\"{{{NS}}}prstGeom\")\n",
        "    if prstGeom is None:\n",
        "        raise ValueError(\"Shape has no prstGeom element\")\n",
        "\n",
        "    avLst = prstGeom.find(f\"{{{NS}}}avLst\")\n",
        "    if avLst is None:\n",
        "        raise ValueError(\"Shape has no avLst element\")\n",
        "\n",
        "    # Clear existing adjustments\n",
        "    for adj in list(avLst):\n",
        "        avLst.remove(adj)\n",
        "\n",
        "    # Add new adjustment with proper namespace\n",
        "    adj_xml = (\n",
        "        f'<a:gd xmlns:a=\"{NS}\" name=\"adj\" fmla=\"val {corner_radius_val}\"/>'\n",
        "    )\n",
        "    avLst.append(parse_xml(adj_xml))"
      ],
      "metadata": {
        "id": "TnU5dSovcCQo"
      },
      "execution_count": 134,
      "outputs": []
    },
    {
      "cell_type": "code",
      "source": [
        "def create_calendar_pptx(output_pptx, year, month, layout, events, input_pptx=None):\n",
        "    \"\"\"\n",
        "    Create a PPTX calendar with events placed in grid cells.\n",
        "\n",
        "    Parameters\n",
        "    ----------\n",
        "    output_pptx : str\n",
        "        Output PPTX file path.\n",
        "    year : int\n",
        "        Year of the calendar.\n",
        "    month : int\n",
        "        Month of the calendar.\n",
        "    layout : dict\n",
        "        From calendar_layout(): {\"rows\", \"cols\", \"mapping\"}.\n",
        "    events : list of dict\n",
        "        Events with fields: \"day\", \"event_name\", etc.\n",
        "    input_pptx : str or None\n",
        "        Path to an existing PPTX. If provided, first slide is used as background.\n",
        "    \"\"\"\n",
        "\n",
        "    # Extract grid dimensions\n",
        "    rows, cols = layout[\"rows\"], layout[\"cols\"]\n",
        "    mapping = layout[\"mapping\"]\n",
        "\n",
        "    # Open template or new presentation\n",
        "    if input_pptx:\n",
        "        prs = Presentation(input_pptx)\n",
        "    else:\n",
        "        prs = Presentation()\n",
        "\n",
        "    slide = prs.slides[0]  # work on first slide\n",
        "\n",
        "    # Calculate layout\n",
        "    table_width = inches_to_px(template_table_width_in)\n",
        "    table_height = inches_to_px(template_table_height_in)\n",
        "    table_left = inches_to_px(template_table_left_in)\n",
        "    table_top = inches_to_px(template_table_top_in)\n",
        "\n",
        "    cell_w = table_width / cols\n",
        "    cell_h = table_height / rows\n",
        "\n",
        "    # Group events by day\n",
        "    day_events = defaultdict(list)\n",
        "    for e in events:\n",
        "        day_events[e[\"day\"]].append(e)\n",
        "\n",
        "    # Add events to slide\n",
        "    for day, (r, c) in mapping.items():\n",
        "        x0 = (c * cell_w + table_left + cell_left)\n",
        "        y0 = (r * cell_h + table_top + cell_top)\n",
        "\n",
        "        for e in day_events.get(day, []):\n",
        "            label = e[\"event_name\"]\n",
        "            fontsize = e[\"style\"][\"fontsize\"]\n",
        "\n",
        "            bg_color = e[\"style\"][\"bg\"].lstrip(\"#\")\n",
        "            fg_color = e[\"style\"][\"fg\"].lstrip(\"#\")\n",
        "            line_color = e[\"style\"][\"line\"].lstrip(\"#\")\n",
        "\n",
        "            # Estimate text box width\n",
        "            if fontpath:\n",
        "              text_width = measure_text_width(fontpath, label, fontsize)\n",
        "            else:\n",
        "              text_width = len(label) * fontsize * font_width_coef\n",
        "            padding_w = fontsize\n",
        "            padding_h = fontsize\n",
        "\n",
        "            left = Inches(px_to_inches(x0))\n",
        "            top = Inches(px_to_inches(y0))\n",
        "            width = Inches(px_to_inches(text_width + padding_w))\n",
        "            height = Inches(px_to_inches(fontsize + padding_h))\n",
        "\n",
        "            # Add rectangle with rounded corners\n",
        "            shape = slide.shapes.add_shape(\n",
        "                MSO_SHAPE.ROUNDED_RECTANGLE,\n",
        "                left, top, width, height\n",
        "            )\n",
        "            shape.shadow.inherit = False\n",
        "            set_corner_radius(shape, corner_radius_val=40000)\n",
        "\n",
        "            # Fill color\n",
        "            fill = shape.fill\n",
        "            fill.solid()\n",
        "            fill.fore_color.rgb = RGBColor.from_string(bg_color)\n",
        "\n",
        "            # Border color\n",
        "            line = shape.line\n",
        "            line.color.rgb = RGBColor.from_string(line_color)\n",
        "\n",
        "            # Add text\n",
        "            text_frame = shape.text_frame\n",
        "            text_frame.clear()  # ensure it's empty\n",
        "            text_frame.margin_left = Inches(px_to_inches(5))\n",
        "            text_frame.margin_right  = Inches(px_to_inches(5))\n",
        "            p = text_frame.paragraphs[0]\n",
        "            p.alignment = PP_ALIGN.LEFT\n",
        "            run = p.add_run()\n",
        "            run.text = label\n",
        "\n",
        "            font = run.font\n",
        "            font.name = fontname\n",
        "            font.size = Pt(fontsize)\n",
        "            font.color.rgb = RGBColor.from_string(fg_color)\n",
        "\n",
        "            # vertical spacing\n",
        "            y0 += fontsize + fontsize\n",
        "\n",
        "    prs.save(output_pptx)\n",
        "    print(f\"PPTX saved: {output_pptx}\")\n",
        "\n"
      ],
      "metadata": {
        "id": "_NgNoGS4jzTK"
      },
      "execution_count": 135,
      "outputs": []
    },
    {
      "cell_type": "code",
      "execution_count": 136,
      "metadata": {
        "colab": {
          "base_uri": "https://localhost:8080/"
        },
        "id": "HtbfA1DJAdRt",
        "outputId": "7de5efbd-3483-4ecc-9211-b9e92254347d"
      },
      "outputs": [
        {
          "output_type": "stream",
          "name": "stdout",
          "text": [
            "PPTX saved: calendar.pptx\n"
          ]
        }
      ],
      "source": [
        "# Run event collection and integration into the template\n",
        "events = collect_events(calendar_list, year, month)\n",
        "\n",
        "layout = calendar_layout(year, month, week_start=week_start, workweek=workweek)\n",
        "\n",
        "create_calendar_pptx(output_pptx, year, month, layout, events, template_pptx)\n"
      ]
    }
  ],
  "metadata": {
    "colab": {
      "provenance": [],
      "authorship_tag": "ABX9TyOGEK27AGZVGCN26Ou4yK91",
      "include_colab_link": true
    },
    "kernelspec": {
      "display_name": "Python 3",
      "name": "python3"
    },
    "language_info": {
      "name": "python"
    }
  },
  "nbformat": 4,
  "nbformat_minor": 0
}