{
  "nbformat": 4,
  "nbformat_minor": 0,
  "metadata": {
    "colab": {
      "provenance": [],
      "toc_visible": true,
      "authorship_tag": "ABX9TyMyqK6FlezRKIRgTdSFs5wG",
      "include_colab_link": true
    },
    "kernelspec": {
      "name": "python3",
      "display_name": "Python 3"
    },
    "language_info": {
      "name": "python"
    }
  },
  "cells": [
    {
      "cell_type": "markdown",
      "metadata": {
        "id": "view-in-github",
        "colab_type": "text"
      },
      "source": [
        "<a href=\"https://colab.research.google.com/github/olga-terekhova/tdsb-calendar/blob/main/TDSB_Calendar_Elementary.ipynb\" target=\"_parent\"><img src=\"https://colab.research.google.com/assets/colab-badge.svg\" alt=\"Open In Colab\"/></a>"
      ]
    },
    {
      "cell_type": "markdown",
      "source": [
        "# Create calendars based on the Day 1-5 cycle in TDSB"
      ],
      "metadata": {
        "id": "-WLPXOrqWDu_"
      }
    },
    {
      "cell_type": "markdown",
      "source": [
        "This notebook takes parameters of the current school year (dates of start and end of the school year, dates of all non-school dates, daily activity schedule) and generates iCal (ICS) calendars that can be imported into Google Calendar.\n",
        "\n",
        "\n",
        "Calendars with one full-day event per day:\n",
        "* calendar_school_days.ics - all regular school weekdays labeled with their numbers from 1 to 5\n",
        "* calendar_no_school_days.ics - all non-school weekdays (PA days, holidays, break boards) labeled with the reason why there is no school\n",
        "* calendar_all.ics - all weekdays, regular school and non-school  \n",
        "\n",
        "Calendar with timed intra-day activity events:\n",
        "* calendar_schedule.ics - a daily schedule for each school weekday broken down into activities"
      ],
      "metadata": {
        "id": "dRtHnxFp02G5"
      }
    },
    {
      "cell_type": "markdown",
      "source": [
        "## Provide input parameters  \n",
        "- First and last day\n",
        "- PA Days\n",
        "- Holidays\n",
        "- Board Breaks\n",
        "- Daily schedule for Days 1-5"
      ],
      "metadata": {
        "id": "Nm9EGX2gWNRI"
      }
    },
    {
      "cell_type": "code",
      "source": [
        "# Define the start and end dates\n",
        "\n",
        "start_date = '2023-09-05'\n",
        "end_date = '2024-06-28'"
      ],
      "metadata": {
        "id": "PVnbEakqWiMY"
      },
      "execution_count": 1,
      "outputs": []
    },
    {
      "cell_type": "code",
      "source": [
        "# Define a set of PA days\n",
        "\n",
        "pa_dates = ['2023-10-06', '2023-11-17', '2023-12-08',\n",
        "                                 '2024-01-19', '2024-02-16', '2024-04-19', '2024-06-07']"
      ],
      "metadata": {
        "id": "WtvZKILLWscp"
      },
      "execution_count": 2,
      "outputs": []
    },
    {
      "cell_type": "code",
      "source": [
        "# Define a set of holiday days\n",
        "# Dates are preceded by a label with the holiday name, separated by \": \"\n",
        "\n",
        "holiday_dates = [\n",
        "    'Labour Day:  2023-09-04',\n",
        "    'Thanksgiving: 2023-10-09',\n",
        "    'Provincial Family Day: 2024-02-19',\n",
        "    'Good Friday: 2024-03-29',\n",
        "    'Easter Monday: 2024-04-01',\n",
        "    'Victoria Day: 2024-05-20'\n",
        "]"
      ],
      "metadata": {
        "id": "xx6jAIamW2_9"
      },
      "execution_count": 3,
      "outputs": []
    },
    {
      "cell_type": "code",
      "source": [
        "# Define a list of board breaks\n",
        "# Each break preceded by a label with the break name, separated by \": \"\n",
        "# Each break represented by a date range, start date and end date separated by \": \"\n",
        "\n",
        "break_dates = [\n",
        "    'Winter Break: 2023-12-25: 2024-01-05',\n",
        "    'Mid-Winter Break: 2024-03-11: 2024-03-15'\n",
        "]"
      ],
      "metadata": {
        "id": "zM_qH079X4yx"
      },
      "execution_count": 4,
      "outputs": []
    },
    {
      "cell_type": "code",
      "source": [
        "# Define a scope for the daily schedule\n",
        "\n",
        "start_schedule = '2023-10-01'\n",
        "end_schedule = '2023-10-31'"
      ],
      "metadata": {
        "id": "yFF_sTuqv6tX"
      },
      "execution_count": 5,
      "outputs": []
    },
    {
      "cell_type": "code",
      "source": [
        "# Define the room schedule as a list of lists\n",
        "\n",
        "schedule_data = [\n",
        "    ['Day 1',  '08:55:00', '09:00:00', 'Attendance'],\n",
        "    ['Day 1',  '09:00:00', '09:20:00', 'Entry, Circle Time, Calendar'],\n",
        "    ['Day 1',  '09:20:00', '10:00:00', 'GYM (lunchroom)'],\n",
        "    ['Day 1',  '10:00:00', '10:20:00', 'Lesson Literacy & Math'],\n",
        "    ['Day 1',  '10:20:00', '11:10:00', 'Intentional Play-Based Learning Centres'],\n",
        "    ['Day 1',  '11:10:00', '11:30:00', 'Read Aloud / Lesson'],\n",
        "    ['Day 1',  '11:30:00', '12:00:00', 'Lunch'],\n",
        "    ['Day 1',  '12:00:00', '12:15:00', 'Clean-up and dress for outdoor play'],\n",
        "    ['Day 1',  '12:15:00', '13:00:00', 'Outdoor Play'],\n",
        "    ['Day 1',  '13:00:00', '13:15:00', 'Mindfullness / Quiet Activity / Story'],\n",
        "    ['Day 1',  '13:15:00', '14:30:00', 'Learning Centres and Small Group Lesson'],\n",
        "    ['Day 1',  '14:30:00', '14:45:00', 'Sharing Circle / Read Aloud'],\n",
        "    ['Day 1',  '14:45:00', '15:15:00', 'Outdoor Play / Dismissal 3:10 Ready for Dismissal'],\n",
        "    ['Day 2',  '08:55:00', '09:00:00', 'Attendance'],\n",
        "    ['Day 2',  '09:00:00', '09:20:00', 'Entry, Circle Time, Calendar'],\n",
        "    ['Day 2',  '09:20:00', '09:30:00', 'Quiet Reading (10 min.)'],\n",
        "    ['Day 2',  '09:30:00', '10:20:00', 'Group Lesson Literacy & Mathematics'],\n",
        "    ['Day 2',  '10:20:00', '11:10:00', 'Intentional Play-Based Learning Centres'],\n",
        "    ['Day 2',  '11:10:00', '11:30:00', 'Read Aloud / Lesson'],\n",
        "    ['Day 2',  '11:30:00', '12:00:00', 'Lunch'],\n",
        "    ['Day 2',  '12:00:00', '12:15:00', 'Clean-up and dress for outdoor play'],\n",
        "    ['Day 2',  '12:15:00', '13:00:00', 'Outdoor Play'],\n",
        "    ['Day 2',  '13:00:00', '13:15:00', 'Mindfullness / Quiet Activity / Story'],\n",
        "    ['Day 2',  '13:15:00', '14:05:00', 'Learning Centres'],\n",
        "    ['Day 2',  '14:05:00', '14:45:00', 'LIBRARY'],\n",
        "    ['Day 2',  '14:45:00', '15:15:00', 'Outdoor Play / Dismissal 3:10 Ready for Dismissal'],\n",
        "    ['Day 3',  '08:55:00', '09:00:00', 'Attendance'],\n",
        "    ['Day 3',  '09:00:00', '09:20:00', 'Entry, Circle Time, Calendar'],\n",
        "    ['Day 3',  '09:20:00', '10:00:00', 'GYM (lunchroom)'],\n",
        "    ['Day 3',  '10:00:00', '10:20:00', 'Lesson Literacy & Math'],\n",
        "    ['Day 3',  '10:20:00', '11:10:00', 'Intentional Play-Based Learning Centres'],\n",
        "    ['Day 3',  '11:10:00', '11:30:00', 'Read Aloud / Lesson'],\n",
        "    ['Day 3',  '11:30:00', '12:00:00', 'Lunch'],\n",
        "    ['Day 3',  '12:00:00', '12:15:00', 'Clean-up and dress for outdoor play'],\n",
        "    ['Day 3',  '12:15:00', '13:00:00', 'Outdoor Play'],\n",
        "    ['Day 3',  '13:00:00', '13:15:00', 'Mindfullness / Quiet Activity / Story'],\n",
        "    ['Day 3',  '13:15:00', '13:55:00', 'Lesson Literacy & Math'],\n",
        "    ['Day 3',  '13:55:00', '14:35:00', 'MUSIC (Room 204)'],\n",
        "    ['Day 3',  '14:35:00', '14:45:00', 'Sharing Circle / Read Aloud'],\n",
        "    ['Day 3',  '14:45:00', '15:15:00', 'Outdoor Play / Dismissal 3:10 Ready for Dismissal'],\n",
        "    ['Day 4',  '08:55:00', '09:00:00', 'Attendance'],\n",
        "    ['Day 4',  '09:00:00', '09:20:00', 'Entry, Circle Time, Calendar'],\n",
        "    ['Day 4',  '09:20:00', '09:30:00', 'Quiet Reading (10 min.)'],\n",
        "    ['Day 4',  '09:30:00', '10:20:00', 'Group Lesson Literacy & Mathematics'],\n",
        "    ['Day 4',  '10:20:00', '11:10:00', 'Intentional Play-Based Learning Centres'],\n",
        "    ['Day 4',  '11:10:00', '11:30:00', 'Read Aloud / Lesson'],\n",
        "    ['Day 4',  '11:30:00', '12:00:00', 'Lunch'],\n",
        "    ['Day 4',  '12:00:00', '12:15:00', 'Clean-up and dress for outdoor play'],\n",
        "    ['Day 4',  '12:15:00', '13:00:00', 'Outdoor Play'],\n",
        "    ['Day 4',  '13:00:00', '13:40:00', 'MUSIC (Room 204)'],\n",
        "    ['Day 4',  '13:40:00', '14:30:00', 'S.T.E.M.'],\n",
        "    ['Day 4',  '14:30:00', '14:45:00', 'Sharing Circle / Read Aloud'],\n",
        "    ['Day 4',  '14:45:00', '15:15:00', 'Outdoor Play / Dismissal 3:10 Ready for Dismissal'],\n",
        "    ['Day 5',  '08:55:00', '09:00:00', 'Attendance'],\n",
        "    ['Day 5',  '09:00:00', '09:20:00', 'Entry, Circle Time, Calendar'],\n",
        "    ['Day 5',  '09:20:00', '10:00:00', 'GYM (lunchroom)'],\n",
        "    ['Day 5',  '10:00:00', '10:20:00', 'Lesson Literacy & Math'],\n",
        "    ['Day 5',  '10:20:00', '11:10:00', 'Intentional Play-Based Learning Centres'],\n",
        "    ['Day 5',  '11:10:00', '11:30:00', 'Read Aloud / Lesson'],\n",
        "    ['Day 5',  '11:30:00', '12:00:00', 'Lunch'],\n",
        "    ['Day 5',  '12:00:00', '12:15:00', 'Clean-up and dress for outdoor play'],\n",
        "    ['Day 5',  '12:15:00', '13:00:00', 'Outdoor Play'],\n",
        "    ['Day 5',  '13:00:00', '13:15:00', 'Mindfullness / Quiet Activity / Story'],\n",
        "    ['Day 5',  '13:15:00', '14:30:00', 'Learning Centres and Small Group Lesson'],\n",
        "    ['Day 5',  '14:30:00', '14:45:00', 'Sharing Circle / Read Aloud'],\n",
        "    ['Day 5',  '14:45:00', '15:15:00', 'Outdoor Play / Dismissal 3:10 Ready for Dismissal']\n",
        "    ]"
      ],
      "metadata": {
        "id": "vAS_5pX72_as"
      },
      "execution_count": null,
      "outputs": []
    },
    {
      "cell_type": "markdown",
      "source": [
        "## See description of output attributes\n",
        "\n",
        "**Date**: Calendar date between start and end date of the school year.\n",
        "* ISO date format.\n",
        "* Example: '2023-10-25'\n",
        "\n",
        "**School_Day**: Indicates if there is school on this day.\n",
        "* Boolean\n",
        "* True if there is school on Date, False if there is no school on Date\n",
        "\n",
        "**Type_of_Day**: Type of a day for Date.\n",
        "* List of values: 'School Day', 'Weekend', 'PA Day', 'Holiday', 'Board Break'\n",
        "* For days with Type_of_Day = 'School Day', attribute School_Day should be True, and for all other Type_of_Day values School_Day should be False\n",
        "* If a weekend day is within the range of a board break, the value should be 'Weekend', not 'Board Break'\n",
        "\n",
        "**Label**: More information about the non-school weekday\n",
        "* Filled with the name of the holiday for Type_of_Day = 'Holiday'\n",
        "* Filled with the name of the board break for 'Type_of_Day' = 'Board Break'\n",
        "* Filled with 'PA Day' for PA Days\n",
        "* Not filled for regular school days\n",
        "* Not filled for weekends\n",
        "* Example: 'Thanksgiving', 'Winter Break'\n",
        "\n",
        "**Day_of_Week**: Day of the week, from Monday to Sunday.\n",
        "* Full name (Monday, not Mon)\n",
        "\n",
        "**Day_Number**: A number from 1 to 5 according to the TDSB day cycle.\n",
        "* The calendar starts with 1 on the first school day\n",
        "* Day number increments for each subsequent school day (1, 2, 3, 4, 5), it start from 1 after reaching 5, and it skips all non-school days (weekends, holidays, PA days, board breaks).\n",
        "* Filled with values from 1 to 5 for all regular school days ('School_Day' = True)\n",
        "* Not filled for all other days\n",
        "\n",
        "**Overall_Day_Count**: The overall number of the school day from first day to last day.\n",
        "* Starts with 1 on the first school day\n",
        "* Increments for each subsequent school day until the last school day, counting how many school days there are in the current school year\n",
        "* Filled with values 1+ for all regular school days ('School_Day' = True)\n",
        "* Not filled for all other days\n",
        "\n",
        "**Calendar_Display**: A string for representing the day in the resulting calendar.\n",
        "* For school days ('Type_of_Day' = 'School Day') is filled with 'Day '+ Day_Number. Possible values: 'Day 1', 'Day 2', 'Day 3', 'Day 4', 'Day 5'\n",
        "* For non-school weekdays ('Type_of_Day' in ['PA Day', 'Holiday', 'Board Break'] is filled with the value of Label\n",
        "* For weekends ('Type_of_Day' = 'Weekend') is not filled.\n",
        "\n",
        "**Day_Number**: Day number 1 to 5.\n",
        "* A string filled with  'Day '+ Day_Number. Possible values: 'Day 1', 'Day 2', 'Day 3', 'Day 4', 'Day 5'\n",
        "\n",
        "**Begin_Time**: Time when an activity begins.\n",
        "* Local time (America/Toronto)\n",
        "\n",
        "**Begin_Time_UTC**: Time when an activity begins in UTC.\n",
        "* UTC time\n",
        "\n",
        "**End_Time**: Time when an activity ends.\n",
        "* Local time (America/Toronto)\n",
        "\n",
        "**End_Time_UTC**: Time when an activity ends in UTC.\n",
        "* UTC time\n",
        "\n",
        "**Activity**: A string describing class activity / lesson."
      ],
      "metadata": {
        "id": "i8zR1qMuZMcl"
      }
    },
    {
      "cell_type": "markdown",
      "source": [
        "## Run code"
      ],
      "metadata": {
        "id": "Pi7prNmOsjsP"
      }
    },
    {
      "cell_type": "markdown",
      "source": [
        "### Import libraries"
      ],
      "metadata": {
        "id": "Ix-xVfL1VNaY"
      }
    },
    {
      "cell_type": "code",
      "source": [
        "# Install ics library to work with iCalendar format\n",
        "!pip install ics"
      ],
      "metadata": {
        "colab": {
          "base_uri": "https://localhost:8080/"
        },
        "id": "HlNECqb6UOfI",
        "outputId": "0666aae4-7bef-42ce-b748-75c7035930bf"
      },
      "execution_count": 6,
      "outputs": [
        {
          "output_type": "stream",
          "name": "stdout",
          "text": [
            "Requirement already satisfied: ics in /usr/local/lib/python3.10/dist-packages (0.7.2)\n",
            "Requirement already satisfied: python-dateutil in /usr/local/lib/python3.10/dist-packages (from ics) (2.8.2)\n",
            "Requirement already satisfied: arrow>=0.11 in /usr/local/lib/python3.10/dist-packages (from ics) (1.3.0)\n",
            "Requirement already satisfied: six>1.5 in /usr/local/lib/python3.10/dist-packages (from ics) (1.16.0)\n",
            "Requirement already satisfied: tatsu>4.2 in /usr/local/lib/python3.10/dist-packages (from ics) (5.8.3)\n",
            "Requirement already satisfied: attrs>=19.1.0 in /usr/local/lib/python3.10/dist-packages (from ics) (23.1.0)\n",
            "Requirement already satisfied: types-python-dateutil>=2.8.10 in /usr/local/lib/python3.10/dist-packages (from arrow>=0.11->ics) (2.8.19.14)\n"
          ]
        }
      ]
    },
    {
      "cell_type": "code",
      "source": [
        "# Import Calendar, Event to work with calendar events in iCalendar\n",
        "from ics import Calendar, Event"
      ],
      "metadata": {
        "id": "srcCW5o6UNBo"
      },
      "execution_count": 7,
      "outputs": []
    },
    {
      "cell_type": "code",
      "source": [
        "# Import pandas\n",
        "import pandas as pd"
      ],
      "metadata": {
        "id": "0Qby2oOdn8Rd"
      },
      "execution_count": 8,
      "outputs": []
    },
    {
      "cell_type": "markdown",
      "source": [
        "### Create Day 1-5 calendars for the current year"
      ],
      "metadata": {
        "id": "B8dOmhcEVil8"
      }
    },
    {
      "cell_type": "markdown",
      "source": [
        "#### Create a dataset with dates"
      ],
      "metadata": {
        "id": "vqynSpR7ij9b"
      }
    },
    {
      "cell_type": "code",
      "execution_count": 9,
      "metadata": {
        "colab": {
          "base_uri": "https://localhost:8080/"
        },
        "id": "LVhk4nWolsHE",
        "outputId": "1b3aee3a-8582-422b-855f-d607fa7efb20"
      },
      "outputs": [
        {
          "output_type": "stream",
          "name": "stdout",
          "text": [
            "          Date\n",
            "0   2023-09-05\n",
            "1   2023-09-06\n",
            "2   2023-09-07\n",
            "3   2023-09-08\n",
            "4   2023-09-09\n",
            "..         ...\n",
            "293 2024-06-24\n",
            "294 2024-06-25\n",
            "295 2024-06-26\n",
            "296 2024-06-27\n",
            "297 2024-06-28\n",
            "\n",
            "[298 rows x 1 columns]\n"
          ]
        }
      ],
      "source": [
        "# Create a main series of days between the start and end of school\n",
        "\n",
        "# Create the date range\n",
        "date_series = pd.date_range(start=start_date, end=end_date, freq='D')\n",
        "\n",
        "# Create a DataFrame with \"Date\" as the column name\n",
        "df_year_dates = pd.DataFrame({'Date': date_series})\n",
        "\n",
        "# Display the DataFrame\n",
        "print(df_year_dates)"
      ]
    },
    {
      "cell_type": "code",
      "source": [
        "# Create a series of PA days\n",
        "\n",
        "# Create a range of PA days dates\n",
        "date_series_pa = pd.to_datetime(pa_dates)\n",
        "\n",
        "# Create a dataframe with School Day and Type Of Day filled\n",
        "df_pa_days = pd.DataFrame({'Date': date_series_pa, 'School_Day': False, 'Type_of_Day': 'PA Day', 'Label': 'PA Day'})\n",
        "print (df_pa_days)"
      ],
      "metadata": {
        "colab": {
          "base_uri": "https://localhost:8080/"
        },
        "id": "jikTjVCyoSY9",
        "outputId": "d41396c4-329b-4c20-e3a8-e6bcd6bc0594"
      },
      "execution_count": 10,
      "outputs": [
        {
          "output_type": "stream",
          "name": "stdout",
          "text": [
            "        Date  School_Day Type_of_Day   Label\n",
            "0 2023-10-06       False      PA Day  PA Day\n",
            "1 2023-11-17       False      PA Day  PA Day\n",
            "2 2023-12-08       False      PA Day  PA Day\n",
            "3 2024-01-19       False      PA Day  PA Day\n",
            "4 2024-02-16       False      PA Day  PA Day\n",
            "5 2024-04-19       False      PA Day  PA Day\n",
            "6 2024-06-07       False      PA Day  PA Day\n"
          ]
        }
      ]
    },
    {
      "cell_type": "code",
      "source": [
        "# Create a DataFrame for Holidays\n",
        "\n",
        "df_holiday_dates = pd.DataFrame([line.split(': ') for line in holiday_dates], columns=['Label', 'Date'])\n",
        "df_holiday_dates['Date'] = pd.to_datetime(df_holiday_dates['Date'])\n",
        "df_holiday_dates['School_Day'] = False\n",
        "df_holiday_dates['Type_of_Day'] = 'Holiday'\n",
        "df_holiday_dates = df_holiday_dates[['Date', 'School_Day', 'Type_of_Day', 'Label']]\n",
        "\n",
        "print(df_holiday_dates)\n"
      ],
      "metadata": {
        "colab": {
          "base_uri": "https://localhost:8080/"
        },
        "id": "g0vCEghCuDFZ",
        "outputId": "fb3a106b-cfbf-4a27-f2ff-4c2a9fbfe9d9"
      },
      "execution_count": 11,
      "outputs": [
        {
          "output_type": "stream",
          "name": "stdout",
          "text": [
            "        Date  School_Day Type_of_Day                  Label\n",
            "0 2023-09-04       False     Holiday             Labour Day\n",
            "1 2023-10-09       False     Holiday           Thanksgiving\n",
            "2 2024-02-19       False     Holiday  Provincial Family Day\n",
            "3 2024-03-29       False     Holiday            Good Friday\n",
            "4 2024-04-01       False     Holiday          Easter Monday\n",
            "5 2024-05-20       False     Holiday           Victoria Day\n"
          ]
        }
      ]
    },
    {
      "cell_type": "code",
      "source": [
        "# Create a series of board breaks\n",
        "\n",
        "# Initialize an empty list to store DataFrames\n",
        "break_dataframes = []\n",
        "\n",
        "# Process each item in the break_dates array\n",
        "for date_entry in break_dates:\n",
        "    label, start_date, end_date = date_entry.split(': ')\n",
        "\n",
        "    # Create a date range between the start and end dates of the current break\n",
        "    date_range = pd.date_range(start=start_date, end=end_date)\n",
        "\n",
        "    # Create a DataFrame for the date range\n",
        "    df = pd.DataFrame({'Date': pd.to_datetime(date_range), 'Label': label})\n",
        "\n",
        "    # Append the DataFrame to the list\n",
        "    break_dataframes.append(df)\n",
        "\n",
        "# Concatenate (union) all DataFrames into one\n",
        "final_break_df = pd.concat(break_dataframes, ignore_index=True)\n",
        "\n",
        "\n",
        "final_break_df ['School_Day'] = False\n",
        "final_break_df ['Type_of_Day'] = 'Board Break'\n",
        "\n",
        "df_break_dates = final_break_df[['Date', 'School_Day', 'Type_of_Day', 'Label']]\n",
        "# Display the final DataFrame\n",
        "print(final_break_df)"
      ],
      "metadata": {
        "colab": {
          "base_uri": "https://localhost:8080/"
        },
        "id": "DhqOCfRAvJiK",
        "outputId": "07f6ed8d-054d-4f29-d6df-df970a506608"
      },
      "execution_count": 12,
      "outputs": [
        {
          "output_type": "stream",
          "name": "stdout",
          "text": [
            "         Date             Label  School_Day  Type_of_Day\n",
            "0  2023-12-25      Winter Break       False  Board Break\n",
            "1  2023-12-26      Winter Break       False  Board Break\n",
            "2  2023-12-27      Winter Break       False  Board Break\n",
            "3  2023-12-28      Winter Break       False  Board Break\n",
            "4  2023-12-29      Winter Break       False  Board Break\n",
            "5  2023-12-30      Winter Break       False  Board Break\n",
            "6  2023-12-31      Winter Break       False  Board Break\n",
            "7  2024-01-01      Winter Break       False  Board Break\n",
            "8  2024-01-02      Winter Break       False  Board Break\n",
            "9  2024-01-03      Winter Break       False  Board Break\n",
            "10 2024-01-04      Winter Break       False  Board Break\n",
            "11 2024-01-05      Winter Break       False  Board Break\n",
            "12 2024-03-11  Mid-Winter Break       False  Board Break\n",
            "13 2024-03-12  Mid-Winter Break       False  Board Break\n",
            "14 2024-03-13  Mid-Winter Break       False  Board Break\n",
            "15 2024-03-14  Mid-Winter Break       False  Board Break\n",
            "16 2024-03-15  Mid-Winter Break       False  Board Break\n"
          ]
        }
      ]
    },
    {
      "cell_type": "code",
      "source": [
        "# Create the final dataframe with all no school days\n",
        "\n",
        "df_noschool_dates = pd.concat([df_pa_days, df_holiday_dates, df_break_dates], ignore_index = True)\n",
        "# df_noschool_dates = pd.concat([df_pa_days, df_holiday_dates], ignore_index = True)\n",
        "\n",
        "print(df_noschool_dates)"
      ],
      "metadata": {
        "colab": {
          "base_uri": "https://localhost:8080/"
        },
        "id": "RQpGuJUzwu6d",
        "outputId": "6f7cd920-c4e9-4cfc-c250-028be2f57cff"
      },
      "execution_count": 13,
      "outputs": [
        {
          "output_type": "stream",
          "name": "stdout",
          "text": [
            "         Date  School_Day  Type_of_Day                  Label\n",
            "0  2023-10-06       False       PA Day                 PA Day\n",
            "1  2023-11-17       False       PA Day                 PA Day\n",
            "2  2023-12-08       False       PA Day                 PA Day\n",
            "3  2024-01-19       False       PA Day                 PA Day\n",
            "4  2024-02-16       False       PA Day                 PA Day\n",
            "5  2024-04-19       False       PA Day                 PA Day\n",
            "6  2024-06-07       False       PA Day                 PA Day\n",
            "7  2023-09-04       False      Holiday             Labour Day\n",
            "8  2023-10-09       False      Holiday           Thanksgiving\n",
            "9  2024-02-19       False      Holiday  Provincial Family Day\n",
            "10 2024-03-29       False      Holiday            Good Friday\n",
            "11 2024-04-01       False      Holiday          Easter Monday\n",
            "12 2024-05-20       False      Holiday           Victoria Day\n",
            "13 2023-12-25       False  Board Break           Winter Break\n",
            "14 2023-12-26       False  Board Break           Winter Break\n",
            "15 2023-12-27       False  Board Break           Winter Break\n",
            "16 2023-12-28       False  Board Break           Winter Break\n",
            "17 2023-12-29       False  Board Break           Winter Break\n",
            "18 2023-12-30       False  Board Break           Winter Break\n",
            "19 2023-12-31       False  Board Break           Winter Break\n",
            "20 2024-01-01       False  Board Break           Winter Break\n",
            "21 2024-01-02       False  Board Break           Winter Break\n",
            "22 2024-01-03       False  Board Break           Winter Break\n",
            "23 2024-01-04       False  Board Break           Winter Break\n",
            "24 2024-01-05       False  Board Break           Winter Break\n",
            "25 2024-03-11       False  Board Break       Mid-Winter Break\n",
            "26 2024-03-12       False  Board Break       Mid-Winter Break\n",
            "27 2024-03-13       False  Board Break       Mid-Winter Break\n",
            "28 2024-03-14       False  Board Break       Mid-Winter Break\n",
            "29 2024-03-15       False  Board Break       Mid-Winter Break\n"
          ]
        }
      ]
    },
    {
      "cell_type": "code",
      "source": [
        "# Create a dataset with all dates and information from the no school ranges\n",
        "\n",
        "df_all_dates = pd.merge(df_year_dates, df_noschool_dates, on='Date', how='left', suffixes=('_left', '_right'))\n",
        "\n",
        "# Add day of week\n",
        "df_all_dates['Day_of_Week'] = df_all_dates['Date'].dt.day_name()\n",
        "\n",
        "print(df_all_dates[df_all_dates['Date']=='2023-10-06'])"
      ],
      "metadata": {
        "colab": {
          "base_uri": "https://localhost:8080/"
        },
        "id": "PXo28aSSzRwc",
        "outputId": "eb3917ef-e1ce-43f0-866d-8e7fdc068de0"
      },
      "execution_count": 14,
      "outputs": [
        {
          "output_type": "stream",
          "name": "stdout",
          "text": [
            "         Date School_Day Type_of_Day   Label Day_of_Week\n",
            "31 2023-10-06      False      PA Day  PA Day      Friday\n"
          ]
        }
      ]
    },
    {
      "cell_type": "code",
      "source": [
        "# Fill in regular school days and weekends\n",
        "\n",
        "# Update rows where Day_of_Week is Saturday or Sunday\n",
        "df_all_dates.loc[(df_all_dates['Day_of_Week'] == 'Saturday') | (df_all_dates['Day_of_Week'] == 'Sunday'), 'School_Day'] = False\n",
        "df_all_dates.loc[(df_all_dates['Day_of_Week'] == 'Saturday') | (df_all_dates['Day_of_Week'] == 'Sunday'), 'Type_of_Day'] = 'Weekend'\n",
        "\n",
        "# Update rows where School_Day is not equal to False\n",
        "df_all_dates.loc[df_all_dates['School_Day'] != False, 'School_Day'] = True\n",
        "df_all_dates.loc[df_all_dates['School_Day'] == True, 'Type_of_Day'] = 'School Day'\n",
        "\n",
        "print(df_all_dates.head(50))"
      ],
      "metadata": {
        "colab": {
          "base_uri": "https://localhost:8080/"
        },
        "id": "YM23NTNZ19gW",
        "outputId": "cc2f3df3-998e-4af7-d4df-0883e7ba82d2"
      },
      "execution_count": 15,
      "outputs": [
        {
          "output_type": "stream",
          "name": "stdout",
          "text": [
            "         Date School_Day Type_of_Day         Label Day_of_Week\n",
            "0  2023-09-05       True  School Day           NaN     Tuesday\n",
            "1  2023-09-06       True  School Day           NaN   Wednesday\n",
            "2  2023-09-07       True  School Day           NaN    Thursday\n",
            "3  2023-09-08       True  School Day           NaN      Friday\n",
            "4  2023-09-09      False     Weekend           NaN    Saturday\n",
            "5  2023-09-10      False     Weekend           NaN      Sunday\n",
            "6  2023-09-11       True  School Day           NaN      Monday\n",
            "7  2023-09-12       True  School Day           NaN     Tuesday\n",
            "8  2023-09-13       True  School Day           NaN   Wednesday\n",
            "9  2023-09-14       True  School Day           NaN    Thursday\n",
            "10 2023-09-15       True  School Day           NaN      Friday\n",
            "11 2023-09-16      False     Weekend           NaN    Saturday\n",
            "12 2023-09-17      False     Weekend           NaN      Sunday\n",
            "13 2023-09-18       True  School Day           NaN      Monday\n",
            "14 2023-09-19       True  School Day           NaN     Tuesday\n",
            "15 2023-09-20       True  School Day           NaN   Wednesday\n",
            "16 2023-09-21       True  School Day           NaN    Thursday\n",
            "17 2023-09-22       True  School Day           NaN      Friday\n",
            "18 2023-09-23      False     Weekend           NaN    Saturday\n",
            "19 2023-09-24      False     Weekend           NaN      Sunday\n",
            "20 2023-09-25       True  School Day           NaN      Monday\n",
            "21 2023-09-26       True  School Day           NaN     Tuesday\n",
            "22 2023-09-27       True  School Day           NaN   Wednesday\n",
            "23 2023-09-28       True  School Day           NaN    Thursday\n",
            "24 2023-09-29       True  School Day           NaN      Friday\n",
            "25 2023-09-30      False     Weekend           NaN    Saturday\n",
            "26 2023-10-01      False     Weekend           NaN      Sunday\n",
            "27 2023-10-02       True  School Day           NaN      Monday\n",
            "28 2023-10-03       True  School Day           NaN     Tuesday\n",
            "29 2023-10-04       True  School Day           NaN   Wednesday\n",
            "30 2023-10-05       True  School Day           NaN    Thursday\n",
            "31 2023-10-06      False      PA Day        PA Day      Friday\n",
            "32 2023-10-07      False     Weekend           NaN    Saturday\n",
            "33 2023-10-08      False     Weekend           NaN      Sunday\n",
            "34 2023-10-09      False     Holiday  Thanksgiving      Monday\n",
            "35 2023-10-10       True  School Day           NaN     Tuesday\n",
            "36 2023-10-11       True  School Day           NaN   Wednesday\n",
            "37 2023-10-12       True  School Day           NaN    Thursday\n",
            "38 2023-10-13       True  School Day           NaN      Friday\n",
            "39 2023-10-14      False     Weekend           NaN    Saturday\n",
            "40 2023-10-15      False     Weekend           NaN      Sunday\n",
            "41 2023-10-16       True  School Day           NaN      Monday\n",
            "42 2023-10-17       True  School Day           NaN     Tuesday\n",
            "43 2023-10-18       True  School Day           NaN   Wednesday\n",
            "44 2023-10-19       True  School Day           NaN    Thursday\n",
            "45 2023-10-20       True  School Day           NaN      Friday\n",
            "46 2023-10-21      False     Weekend           NaN    Saturday\n",
            "47 2023-10-22      False     Weekend           NaN      Sunday\n",
            "48 2023-10-23       True  School Day           NaN      Monday\n",
            "49 2023-10-24       True  School Day           NaN     Tuesday\n"
          ]
        }
      ]
    },
    {
      "cell_type": "code",
      "source": [
        "# Assign day numbers for school days\n",
        "\n",
        "# Sort by Date first\n",
        "df_all_dates = df_all_dates.sort_values(by='Date', ascending=True)\n",
        "\n",
        "# Initialize variables for day number and day count\n",
        "day_number = 0\n",
        "day_count = 0\n",
        "all_day_count = 0\n",
        "\n",
        "# Create a list to store the Day_Number values\n",
        "day_numbers = []\n",
        "all_day_numbers = []\n",
        "\n",
        "# Iterate through the rows of the DataFrame\n",
        "for _, row in df_all_dates.iterrows():\n",
        "    if row['School_Day'] == True:\n",
        "        all_day_count += 1\n",
        "        all_day_number = all_day_count\n",
        "        day_count += 1\n",
        "        if day_count > 5:\n",
        "          day_count = 1\n",
        "        day_number = day_count\n",
        "    else:\n",
        "        day_number = None\n",
        "        all_day_number = None\n",
        "    day_numbers.append(day_number)\n",
        "    all_day_numbers.append(all_day_number)\n",
        "\n",
        "# Add the Day_Number column to the DataFrame\n",
        "df_all_dates['Day_Number'] = day_numbers\n",
        "df_all_dates['Overall_Day_Count'] = all_day_numbers\n",
        "\n",
        "# Display the updated DataFrame\n",
        "print(df_all_dates.head(100))"
      ],
      "metadata": {
        "colab": {
          "base_uri": "https://localhost:8080/"
        },
        "id": "D0kWwBvt3VBR",
        "outputId": "18eff3e7-d808-44a2-ab74-e18412ffb0b5"
      },
      "execution_count": 16,
      "outputs": [
        {
          "output_type": "stream",
          "name": "stdout",
          "text": [
            "         Date School_Day Type_of_Day Label Day_of_Week  Day_Number  \\\n",
            "0  2023-09-05       True  School Day   NaN     Tuesday         1.0   \n",
            "1  2023-09-06       True  School Day   NaN   Wednesday         2.0   \n",
            "2  2023-09-07       True  School Day   NaN    Thursday         3.0   \n",
            "3  2023-09-08       True  School Day   NaN      Friday         4.0   \n",
            "4  2023-09-09      False     Weekend   NaN    Saturday         NaN   \n",
            "..        ...        ...         ...   ...         ...         ...   \n",
            "95 2023-12-09      False     Weekend   NaN    Saturday         NaN   \n",
            "96 2023-12-10      False     Weekend   NaN      Sunday         NaN   \n",
            "97 2023-12-11       True  School Day   NaN      Monday         1.0   \n",
            "98 2023-12-12       True  School Day   NaN     Tuesday         2.0   \n",
            "99 2023-12-13       True  School Day   NaN   Wednesday         3.0   \n",
            "\n",
            "    Overall_Day_Count  \n",
            "0                 1.0  \n",
            "1                 2.0  \n",
            "2                 3.0  \n",
            "3                 4.0  \n",
            "4                 NaN  \n",
            "..                ...  \n",
            "95                NaN  \n",
            "96                NaN  \n",
            "97               66.0  \n",
            "98               67.0  \n",
            "99               68.0  \n",
            "\n",
            "[100 rows x 7 columns]\n"
          ]
        }
      ]
    },
    {
      "cell_type": "code",
      "source": [
        "# Define function to fill value for Calendar_Display\n",
        "\n",
        "def create_calendar_display(row):\n",
        "    if row['Type_of_Day'] == 'School Day':\n",
        "        return \"Day \" + str(int(row['Day_Number']))\n",
        "    elif (row['Type_of_Day'] != 'No school day') & (row['Type_of_Day']!='Weekend'):\n",
        "        return row['Label']\n",
        "    else:\n",
        "        return None\n",
        "\n",
        "\n",
        "# Add calendar display row to manage how an entry looks in a calendar\n",
        "df_all_dates['Calendar_Display'] = df_all_dates.apply(create_calendar_display, axis=1)\n",
        "\n",
        "print(df_all_dates.head(50))"
      ],
      "metadata": {
        "colab": {
          "base_uri": "https://localhost:8080/"
        },
        "id": "lSXgmxEDPDdA",
        "outputId": "41d32b54-481a-433b-d521-047ae1a86afe"
      },
      "execution_count": 17,
      "outputs": [
        {
          "output_type": "stream",
          "name": "stdout",
          "text": [
            "         Date School_Day Type_of_Day         Label Day_of_Week  Day_Number  \\\n",
            "0  2023-09-05       True  School Day           NaN     Tuesday         1.0   \n",
            "1  2023-09-06       True  School Day           NaN   Wednesday         2.0   \n",
            "2  2023-09-07       True  School Day           NaN    Thursday         3.0   \n",
            "3  2023-09-08       True  School Day           NaN      Friday         4.0   \n",
            "4  2023-09-09      False     Weekend           NaN    Saturday         NaN   \n",
            "5  2023-09-10      False     Weekend           NaN      Sunday         NaN   \n",
            "6  2023-09-11       True  School Day           NaN      Monday         5.0   \n",
            "7  2023-09-12       True  School Day           NaN     Tuesday         1.0   \n",
            "8  2023-09-13       True  School Day           NaN   Wednesday         2.0   \n",
            "9  2023-09-14       True  School Day           NaN    Thursday         3.0   \n",
            "10 2023-09-15       True  School Day           NaN      Friday         4.0   \n",
            "11 2023-09-16      False     Weekend           NaN    Saturday         NaN   \n",
            "12 2023-09-17      False     Weekend           NaN      Sunday         NaN   \n",
            "13 2023-09-18       True  School Day           NaN      Monday         5.0   \n",
            "14 2023-09-19       True  School Day           NaN     Tuesday         1.0   \n",
            "15 2023-09-20       True  School Day           NaN   Wednesday         2.0   \n",
            "16 2023-09-21       True  School Day           NaN    Thursday         3.0   \n",
            "17 2023-09-22       True  School Day           NaN      Friday         4.0   \n",
            "18 2023-09-23      False     Weekend           NaN    Saturday         NaN   \n",
            "19 2023-09-24      False     Weekend           NaN      Sunday         NaN   \n",
            "20 2023-09-25       True  School Day           NaN      Monday         5.0   \n",
            "21 2023-09-26       True  School Day           NaN     Tuesday         1.0   \n",
            "22 2023-09-27       True  School Day           NaN   Wednesday         2.0   \n",
            "23 2023-09-28       True  School Day           NaN    Thursday         3.0   \n",
            "24 2023-09-29       True  School Day           NaN      Friday         4.0   \n",
            "25 2023-09-30      False     Weekend           NaN    Saturday         NaN   \n",
            "26 2023-10-01      False     Weekend           NaN      Sunday         NaN   \n",
            "27 2023-10-02       True  School Day           NaN      Monday         5.0   \n",
            "28 2023-10-03       True  School Day           NaN     Tuesday         1.0   \n",
            "29 2023-10-04       True  School Day           NaN   Wednesday         2.0   \n",
            "30 2023-10-05       True  School Day           NaN    Thursday         3.0   \n",
            "31 2023-10-06      False      PA Day        PA Day      Friday         NaN   \n",
            "32 2023-10-07      False     Weekend           NaN    Saturday         NaN   \n",
            "33 2023-10-08      False     Weekend           NaN      Sunday         NaN   \n",
            "34 2023-10-09      False     Holiday  Thanksgiving      Monday         NaN   \n",
            "35 2023-10-10       True  School Day           NaN     Tuesday         4.0   \n",
            "36 2023-10-11       True  School Day           NaN   Wednesday         5.0   \n",
            "37 2023-10-12       True  School Day           NaN    Thursday         1.0   \n",
            "38 2023-10-13       True  School Day           NaN      Friday         2.0   \n",
            "39 2023-10-14      False     Weekend           NaN    Saturday         NaN   \n",
            "40 2023-10-15      False     Weekend           NaN      Sunday         NaN   \n",
            "41 2023-10-16       True  School Day           NaN      Monday         3.0   \n",
            "42 2023-10-17       True  School Day           NaN     Tuesday         4.0   \n",
            "43 2023-10-18       True  School Day           NaN   Wednesday         5.0   \n",
            "44 2023-10-19       True  School Day           NaN    Thursday         1.0   \n",
            "45 2023-10-20       True  School Day           NaN      Friday         2.0   \n",
            "46 2023-10-21      False     Weekend           NaN    Saturday         NaN   \n",
            "47 2023-10-22      False     Weekend           NaN      Sunday         NaN   \n",
            "48 2023-10-23       True  School Day           NaN      Monday         3.0   \n",
            "49 2023-10-24       True  School Day           NaN     Tuesday         4.0   \n",
            "\n",
            "    Overall_Day_Count Calendar_Display  \n",
            "0                 1.0            Day 1  \n",
            "1                 2.0            Day 2  \n",
            "2                 3.0            Day 3  \n",
            "3                 4.0            Day 4  \n",
            "4                 NaN             None  \n",
            "5                 NaN             None  \n",
            "6                 5.0            Day 5  \n",
            "7                 6.0            Day 1  \n",
            "8                 7.0            Day 2  \n",
            "9                 8.0            Day 3  \n",
            "10                9.0            Day 4  \n",
            "11                NaN             None  \n",
            "12                NaN             None  \n",
            "13               10.0            Day 5  \n",
            "14               11.0            Day 1  \n",
            "15               12.0            Day 2  \n",
            "16               13.0            Day 3  \n",
            "17               14.0            Day 4  \n",
            "18                NaN             None  \n",
            "19                NaN             None  \n",
            "20               15.0            Day 5  \n",
            "21               16.0            Day 1  \n",
            "22               17.0            Day 2  \n",
            "23               18.0            Day 3  \n",
            "24               19.0            Day 4  \n",
            "25                NaN             None  \n",
            "26                NaN             None  \n",
            "27               20.0            Day 5  \n",
            "28               21.0            Day 1  \n",
            "29               22.0            Day 2  \n",
            "30               23.0            Day 3  \n",
            "31                NaN           PA Day  \n",
            "32                NaN             None  \n",
            "33                NaN             None  \n",
            "34                NaN     Thanksgiving  \n",
            "35               24.0            Day 4  \n",
            "36               25.0            Day 5  \n",
            "37               26.0            Day 1  \n",
            "38               27.0            Day 2  \n",
            "39                NaN             None  \n",
            "40                NaN             None  \n",
            "41               28.0            Day 3  \n",
            "42               29.0            Day 4  \n",
            "43               30.0            Day 5  \n",
            "44               31.0            Day 1  \n",
            "45               32.0            Day 2  \n",
            "46                NaN             None  \n",
            "47                NaN             None  \n",
            "48               33.0            Day 3  \n",
            "49               34.0            Day 4  \n"
          ]
        }
      ]
    },
    {
      "cell_type": "markdown",
      "source": [
        "#### Create iCalendar export files"
      ],
      "metadata": {
        "id": "3-_JhMa3uHv_"
      }
    },
    {
      "cell_type": "code",
      "source": [
        "# Create iCalendar objects\n",
        "cal_school = Calendar() # a calendar for all school weekdays (only regular school days)\n",
        "cal_no_school = Calendar() # a calendar for all non-school weekdays (only PA days, holidays, breaks)\n",
        "cal_all = Calendar() # a calendar for all weekdays (both school and non-school days)\n",
        "\n",
        "# Iterate through the DataFrame to create events\n",
        "for _, row in df_all_dates.iterrows():\n",
        "    if (row['Calendar_Display'] is not None) :\n",
        "        event = Event()\n",
        "        event.name = row['Calendar_Display']\n",
        "        event.begin = row['Date']  # Set the event date\n",
        "        event.end = row['Date'] # Set the end date\n",
        "        event.make_all_day()  # Make the event an all-day event\n",
        "\n",
        "        # Add the event to one of two calendars\n",
        "        if (row['School_Day']==True):\n",
        "          cal_school.events.add(event)\n",
        "        else:\n",
        "          cal_no_school.events.add(event)\n",
        "\n",
        "        cal_all.events.add(event)\n",
        "\n",
        "\n",
        "# Save the iCalendar data to files\n",
        "with open('calendar_school_days.ics', 'w') as f:\n",
        "    f.writelines(cal_school.serialize_iter())\n",
        "\n",
        "with open('calendar_no_school_days.ics', 'w') as f:\n",
        "    f.writelines(cal_no_school.serialize_iter())\n",
        "\n",
        "with open('calendar_all.ics', 'w') as f:\n",
        "    f.writelines(cal_all.serialize_iter())\n",
        "\n",
        "print(\"iCalendar file created: calendar_school_days.ics, calendar_no_school_days.ics, calendar_all.ics\")"
      ],
      "metadata": {
        "colab": {
          "base_uri": "https://localhost:8080/"
        },
        "id": "pmo5N84_UULW",
        "outputId": "5639acbe-5ff8-4a83-f86b-84aba274f621"
      },
      "execution_count": 18,
      "outputs": [
        {
          "output_type": "stream",
          "name": "stdout",
          "text": [
            "iCalendar file created: calendar_school_days.ics, calendar_no_school_days.ics, calendar_all.ics\n"
          ]
        }
      ]
    },
    {
      "cell_type": "markdown",
      "source": [
        "### Create a daily schedule based on the Day 1-5 calendar"
      ],
      "metadata": {
        "id": "2hSbxTK0V55h"
      }
    },
    {
      "cell_type": "markdown",
      "source": [
        "#### Create a dataset with dates, times and activities"
      ],
      "metadata": {
        "id": "7SDpo9AlwBLE"
      }
    },
    {
      "cell_type": "code",
      "source": [
        "# Create a DataFrame out of schedule data\n",
        "df_day_schedule = pd.DataFrame (schedule_data, columns = ['Day_Number', 'Begin_Time', 'End_Time', 'Activity'])\n",
        "\n",
        "print(df_day_schedule)"
      ],
      "metadata": {
        "id": "FsoKrGKuYdtd",
        "colab": {
          "base_uri": "https://localhost:8080/"
        },
        "outputId": "6d4dcf82-c44b-4111-b209-d80867a19df9"
      },
      "execution_count": 19,
      "outputs": [
        {
          "output_type": "stream",
          "name": "stdout",
          "text": [
            "   Day_Number Begin_Time  End_Time  \\\n",
            "0       Day 1   08:55:00  09:00:00   \n",
            "1       Day 1   09:00:00  09:20:00   \n",
            "2       Day 1   09:20:00  10:00:00   \n",
            "3       Day 1   10:00:00  10:20:00   \n",
            "4       Day 1   10:20:00  11:10:00   \n",
            "..        ...        ...       ...   \n",
            "61      Day 5   12:15:00  13:00:00   \n",
            "62      Day 5   13:00:00  13:15:00   \n",
            "63      Day 5   13:15:00  14:30:00   \n",
            "64      Day 5   14:30:00  14:45:00   \n",
            "65      Day 5   14:45:00  15:15:00   \n",
            "\n",
            "                                             Activity  \n",
            "0                                          Attendance  \n",
            "1                        Entry, Circle Time, Calendar  \n",
            "2                                     GYM (lunchroom)  \n",
            "3                              Lesson Literacy & Math  \n",
            "4             Intentional Play-Based Learning Centres  \n",
            "..                                                ...  \n",
            "61                                       Outdoor Play  \n",
            "62              Mindfullness / Quiet Activity / Story  \n",
            "63            Learning Centres and Small Group Lesson  \n",
            "64                        Sharing Circle / Read Aloud  \n",
            "65  Outdoor Play / Dismissal 3:10 Ready for Dismissal  \n",
            "\n",
            "[66 rows x 4 columns]\n"
          ]
        }
      ]
    },
    {
      "cell_type": "code",
      "source": [
        "# Prepare school year schedule and daily schedule for join using 'Calendar_Display' = 'Day_Number'\n",
        "df_day_schedule['Calendar_Display'] = df_day_schedule['Day_Number']\n",
        "\n",
        "# Keep only school weekdays in the daily schedule scope (see Input Parameters)\n",
        "start_schedule_date = pd.to_datetime(start_schedule)\n",
        "end_schedule_date = pd.to_datetime(end_schedule)\n",
        "\n",
        "df_schedule_dates = df_all_dates[(df_all_dates['Date']<= end_schedule_date) &\n",
        " (df_all_dates['Date']>=start_schedule_date) & (df_all_dates['School_Day']==True)]\n",
        "\n",
        "# Left join school year schedule and daily schedule\n",
        "df_all_schedule = pd.merge(df_schedule_dates, df_day_schedule, on='Calendar_Display', how='left', suffixes=('_left', '_right'))\n",
        "df_all_schedule = df_all_schedule[['Date', 'Calendar_Display', 'Begin_Time', 'End_Time', 'Activity']]\n",
        "\n",
        "# Make a date time out of a Date and Time for begin and end of activities\n",
        "df_all_schedule['Begin_Time'] = df_all_schedule ['Date'].dt.strftime('%Y-%m-%d') + ' ' + df_all_schedule['Begin_Time']\n",
        "df_all_schedule['Begin_Time'] = pd.to_datetime(df_all_schedule['Begin_Time'])\n",
        "\n",
        "df_all_schedule['End_Time'] = df_all_schedule ['Date'].dt.strftime('%Y-%m-%d') + ' ' + df_all_schedule['End_Time']\n",
        "df_all_schedule['End_Time'] = pd.to_datetime(df_all_schedule['End_Time'])\n",
        "\n",
        "print(df_all_schedule)"
      ],
      "metadata": {
        "colab": {
          "base_uri": "https://localhost:8080/"
        },
        "id": "OSTvsWFoeg2R",
        "outputId": "054f96aa-8fa9-4b57-c850-f1c735a4b14b"
      },
      "execution_count": 20,
      "outputs": [
        {
          "output_type": "stream",
          "name": "stdout",
          "text": [
            "          Date Calendar_Display          Begin_Time            End_Time  \\\n",
            "0   2023-10-02            Day 5 2023-10-02 08:55:00 2023-10-02 09:00:00   \n",
            "1   2023-10-02            Day 5 2023-10-02 09:00:00 2023-10-02 09:20:00   \n",
            "2   2023-10-02            Day 5 2023-10-02 09:20:00 2023-10-02 10:00:00   \n",
            "3   2023-10-02            Day 5 2023-10-02 10:00:00 2023-10-02 10:20:00   \n",
            "4   2023-10-02            Day 5 2023-10-02 10:20:00 2023-10-02 11:10:00   \n",
            "..         ...              ...                 ...                 ...   \n",
            "259 2023-10-31            Day 4 2023-10-31 12:15:00 2023-10-31 13:00:00   \n",
            "260 2023-10-31            Day 4 2023-10-31 13:00:00 2023-10-31 13:40:00   \n",
            "261 2023-10-31            Day 4 2023-10-31 13:40:00 2023-10-31 14:30:00   \n",
            "262 2023-10-31            Day 4 2023-10-31 14:30:00 2023-10-31 14:45:00   \n",
            "263 2023-10-31            Day 4 2023-10-31 14:45:00 2023-10-31 15:15:00   \n",
            "\n",
            "                                              Activity  \n",
            "0                                           Attendance  \n",
            "1                         Entry, Circle Time, Calendar  \n",
            "2                                      GYM (lunchroom)  \n",
            "3                               Lesson Literacy & Math  \n",
            "4              Intentional Play-Based Learning Centres  \n",
            "..                                                 ...  \n",
            "259                                       Outdoor Play  \n",
            "260                                   MUSIC (Room 204)  \n",
            "261                                           S.T.E.M.  \n",
            "262                        Sharing Circle / Read Aloud  \n",
            "263  Outdoor Play / Dismissal 3:10 Ready for Dismissal  \n",
            "\n",
            "[264 rows x 5 columns]\n"
          ]
        }
      ]
    },
    {
      "cell_type": "code",
      "source": [
        "# Working with timezones\n",
        "\n",
        "# Make the dataset timezone-aware\n",
        "df_all_schedule['Begin_Time'] = df_all_schedule['Begin_Time'].dt.tz_localize('America/Toronto')\n",
        "df_all_schedule['End_Time'] = df_all_schedule['End_Time'].dt.tz_localize('America/Toronto')\n",
        "\n",
        "# Covert datetimes into UTC for the iCalendar format\n",
        "df_all_schedule['Begin_Time_UTC'] = df_all_schedule['Begin_Time'].dt.tz_convert('UTC')\n",
        "df_all_schedule['End_Time_UTC'] = df_all_schedule['End_Time'].dt.tz_convert('UTC')"
      ],
      "metadata": {
        "id": "7g2Xl7v3oGhg"
      },
      "execution_count": 21,
      "outputs": []
    },
    {
      "cell_type": "code",
      "source": [
        "df_print_month = df_all_schedule[(df_all_schedule['Date']>'2023-10-01')&(df_all_schedule['Date']<'2023-10-31')]\n",
        "df_print_month = df_print_month[['Begin_Time', 'Begin_Time_UTC']]\n",
        "print(df_print_month)"
      ],
      "metadata": {
        "colab": {
          "base_uri": "https://localhost:8080/"
        },
        "id": "gMt4ZEQ7qTjA",
        "outputId": "c03fde72-657d-4bc8-ef33-01ef93803c81"
      },
      "execution_count": 22,
      "outputs": [
        {
          "output_type": "stream",
          "name": "stdout",
          "text": [
            "                   Begin_Time            Begin_Time_UTC\n",
            "0   2023-10-02 08:55:00-04:00 2023-10-02 12:55:00+00:00\n",
            "1   2023-10-02 09:00:00-04:00 2023-10-02 13:00:00+00:00\n",
            "2   2023-10-02 09:20:00-04:00 2023-10-02 13:20:00+00:00\n",
            "3   2023-10-02 10:00:00-04:00 2023-10-02 14:00:00+00:00\n",
            "4   2023-10-02 10:20:00-04:00 2023-10-02 14:20:00+00:00\n",
            "..                        ...                       ...\n",
            "246 2023-10-30 13:00:00-04:00 2023-10-30 17:00:00+00:00\n",
            "247 2023-10-30 13:15:00-04:00 2023-10-30 17:15:00+00:00\n",
            "248 2023-10-30 13:55:00-04:00 2023-10-30 17:55:00+00:00\n",
            "249 2023-10-30 14:35:00-04:00 2023-10-30 18:35:00+00:00\n",
            "250 2023-10-30 14:45:00-04:00 2023-10-30 18:45:00+00:00\n",
            "\n",
            "[251 rows x 2 columns]\n"
          ]
        }
      ]
    },
    {
      "cell_type": "markdown",
      "source": [
        "#### Create an iCalendar export file"
      ],
      "metadata": {
        "id": "GK7f5UCmxOOP"
      }
    },
    {
      "cell_type": "code",
      "source": [
        "# Create an iCalendar object\n",
        "cal_schedule = Calendar()\n",
        "\n",
        "# Iterate through the DataFrame to create events\n",
        "for _, row in df_all_schedule.iterrows():\n",
        "    if (row['Calendar_Display'] is not None) :\n",
        "        event = Event()\n",
        "        event.name = row['Activity']\n",
        "        event.begin = row['Begin_Time_UTC']  # Set the event date\n",
        "        event.end = row['End_Time_UTC'] # Set the end date\n",
        "        cal_schedule.events.add(event)\n",
        "\n",
        "\n",
        "# Save the iCalendar data to files\n",
        "with open('calendar_schedule.ics', 'w') as f:\n",
        "    f.writelines(cal_schedule.serialize_iter())\n",
        "\n",
        "print(\"iCalendar file created: calendar_schedule.ics\")"
      ],
      "metadata": {
        "colab": {
          "base_uri": "https://localhost:8080/"
        },
        "id": "GLCPWMu4hNWP",
        "outputId": "48a6ec6f-196b-432a-eab1-34239929bbc9"
      },
      "execution_count": 23,
      "outputs": [
        {
          "output_type": "stream",
          "name": "stdout",
          "text": [
            "iCalendar file created: calendar_schedule.ics\n"
          ]
        }
      ]
    }
  ]
}