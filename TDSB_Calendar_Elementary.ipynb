{
  "nbformat": 4,
  "nbformat_minor": 0,
  "metadata": {
    "colab": {
      "provenance": [],
      "authorship_tag": "ABX9TyPNXZVVHDLVHunlUTChWhMx",
      "include_colab_link": true
    },
    "kernelspec": {
      "name": "python3",
      "display_name": "Python 3"
    },
    "language_info": {
      "name": "python"
    }
  },
  "cells": [
    {
      "cell_type": "markdown",
      "metadata": {
        "id": "view-in-github",
        "colab_type": "text"
      },
      "source": [
        "<a href=\"https://colab.research.google.com/github/olga-terekhova/tdsb-calendar/blob/main/TDSB_Calendar_Elementary.ipynb\" target=\"_parent\"><img src=\"https://colab.research.google.com/assets/colab-badge.svg\" alt=\"Open In Colab\"/></a>"
      ]
    },
    {
      "cell_type": "markdown",
      "source": [
        "# Create calendars based on the Day 1-5 cycle in TDSB"
      ],
      "metadata": {
        "id": "-WLPXOrqWDu_"
      }
    },
    {
      "cell_type": "markdown",
      "source": [
        "This notebook takes parameters of the current school year (dates of start and end of the school year, dates of all non-school dates, daily activity schedule) and generates iCal (ICS) calendars that can be imported into Google Calendar.\n",
        "\n",
        "\n",
        "Calendars with one full-day event per day:\n",
        "* calendar_school_days.ics - all regular school weekdays labeled with their numbers from 1 to 5\n",
        "* calendar_no_school_days.ics - all non-school weekdays (PA days, holidays, break boards) labeled with the reason why there is no school\n",
        "* calendar_all.ics - all weekdays, regular school and non-school  \n",
        "\n",
        "Calendar with timed intra-day activity events:\n",
        "* calendar_schedule.ics - a daily schedule for each school weekday broken down into activities"
      ],
      "metadata": {
        "id": "dRtHnxFp02G5"
      }
    },
    {
      "cell_type": "markdown",
      "source": [
        "## Provide input parameters  \n",
        "- First and last day\n",
        "- PA Days\n",
        "- Holidays\n",
        "- Board Breaks\n",
        "- Daily schedule for Days 1-5"
      ],
      "metadata": {
        "id": "Nm9EGX2gWNRI"
      }
    },
    {
      "cell_type": "code",
      "source": [
        "# Define the start and end dates\n",
        "\n",
        "start_date = '2025-09-02'\n",
        "end_date = '2026-06-26'"
      ],
      "metadata": {
        "id": "PVnbEakqWiMY"
      },
      "execution_count": 1,
      "outputs": []
    },
    {
      "cell_type": "code",
      "source": [
        "# Define a set of PA days\n",
        "\n",
        "pa_dates = ['2025-09-26', '2025-10-10', '2025-11-14', '2026-01-16', '2026-02-13', '2026-06-05', '2026-06-26']\n"
      ],
      "metadata": {
        "id": "WtvZKILLWscp"
      },
      "execution_count": 2,
      "outputs": []
    },
    {
      "cell_type": "code",
      "source": [
        "# Define a set of holiday days\n",
        "# Dates are preceded by a label with the holiday name, separated by \": \"\n",
        "\n",
        "holiday_dates = [\n",
        "    'Labour Day:2025-09-01',\n",
        "    'Thanksgiving:2025-10-13',\n",
        "    'Family Day:2026-02-16',\n",
        "    'Good Friday:2026-04-03',\n",
        "    'Easter Monday:2026-04-06',\n",
        "    'Victoria Day:2026-05-18'\n",
        "]\n",
        "\n"
      ],
      "metadata": {
        "id": "xx6jAIamW2_9"
      },
      "execution_count": 3,
      "outputs": []
    },
    {
      "cell_type": "code",
      "source": [
        "# Define a list of board breaks\n",
        "# Each break preceded by a label with the break name, separated by \": \"\n",
        "# Each break represented by a date range, start date and end date separated by \": \"\n",
        "\n",
        "break_dates = [\n",
        "    'Winter Break: 2025-12-22: 2026-01-02',\n",
        "    'Mid-Winter Break: 2026-03-16: 2026-03-20'\n",
        "]\n",
        "\n"
      ],
      "metadata": {
        "id": "zM_qH079X4yx"
      },
      "execution_count": 4,
      "outputs": []
    },
    {
      "cell_type": "code",
      "source": [
        "# Define a scope for the daily schedule\n",
        "\n",
        "start_schedule = '2025-09-02'\n",
        "end_schedule = '2025-09-30'"
      ],
      "metadata": {
        "id": "yFF_sTuqv6tX"
      },
      "execution_count": 5,
      "outputs": []
    },
    {
      "cell_type": "code",
      "source": [
        "# Define the room schedule as a list of lists\n",
        "\n",
        "schedule_data = [\n",
        "    ['Day 1',  '08:55:00', '09:00:00', 'Attendance'],\n",
        "    ['Day 1',  '09:00:00', '09:20:00', 'Entry, Circle Time, Calendar'],\n",
        "    ['Day 1',  '11:30:00', '12:00:00', 'Lunch'],\n",
        "    ['Day 1',  '14:45:00', '15:15:00', 'Outdoor Play / Dismissal 3:10 Ready for Dismissal'],\n",
        "    ['Day 2',  '08:55:00', '09:00:00', 'Attendance'],\n",
        "    ['Day 2',  '09:00:00', '09:20:00', 'Entry, Circle Time, Calendar'],\n",
        "    ['Day 2',  '11:30:00', '12:00:00', 'Lunch'],\n",
        "    ['Day 2',  '14:45:00', '15:15:00', 'Outdoor Play / Dismissal 3:10 Ready for Dismissal'],\n",
        "    ['Day 3',  '08:55:00', '09:00:00', 'Attendance'],\n",
        "    ['Day 3',  '09:00:00', '09:20:00', 'Entry, Circle Time, Calendar'],\n",
        "    ['Day 3',  '11:30:00', '12:00:00', 'Lunch'],\n",
        "    ['Day 3',  '14:45:00', '15:15:00', 'Outdoor Play / Dismissal 3:10 Ready for Dismissal'],\n",
        "    ['Day 4',  '08:55:00', '09:00:00', 'Attendance'],\n",
        "    ['Day 4',  '09:00:00', '09:20:00', 'Entry, Circle Time, Calendar'],\n",
        "    ['Day 4',  '11:30:00', '12:00:00', 'Lunch'],\n",
        "    ['Day 4',  '14:45:00', '15:15:00', 'Outdoor Play / Dismissal 3:10 Ready for Dismissal'],\n",
        "    ['Day 5',  '08:55:00', '09:00:00', 'Attendance'],\n",
        "    ['Day 5',  '09:00:00', '09:20:00', 'Entry, Circle Time, Calendar'],\n",
        "    ['Day 5',  '11:30:00', '12:00:00', 'Lunch'],\n",
        "    ['Day 5',  '14:45:00', '15:15:00', 'Outdoor Play / Dismissal 3:10 Ready for Dismissal']\n",
        "    ]"
      ],
      "metadata": {
        "id": "vAS_5pX72_as"
      },
      "execution_count": 6,
      "outputs": []
    },
    {
      "cell_type": "markdown",
      "source": [
        "## See description of output attributes\n",
        "\n",
        "**Date**: Calendar date between start and end date of the school year.\n",
        "* ISO date format.\n",
        "* Example: '2023-10-25'\n",
        "\n",
        "**School_Day**: Indicates if there is school on this day.\n",
        "* Boolean\n",
        "* True if there is school on Date, False if there is no school on Date\n",
        "\n",
        "**Type_of_Day**: Type of a day for Date.\n",
        "* List of values: 'School Day', 'Weekend', 'PA Day', 'Holiday', 'Board Break'\n",
        "* For days with Type_of_Day = 'School Day', attribute School_Day should be True, and for all other Type_of_Day values School_Day should be False\n",
        "* If a weekend day is within the range of a board break, the value should be 'Weekend', not 'Board Break'\n",
        "\n",
        "**Label**: More information about the non-school weekday\n",
        "* Filled with the name of the holiday for Type_of_Day = 'Holiday'\n",
        "* Filled with the name of the board break for 'Type_of_Day' = 'Board Break'\n",
        "* Filled with 'PA Day' for PA Days\n",
        "* Not filled for regular school days\n",
        "* Not filled for weekends\n",
        "* Example: 'Thanksgiving', 'Winter Break'\n",
        "\n",
        "**Day_of_Week**: Day of the week, from Monday to Sunday.\n",
        "* Full name (Monday, not Mon)\n",
        "\n",
        "**Day_Number**: A number from 1 to 5 according to the TDSB day cycle.\n",
        "* The calendar starts with 1 on the first school day\n",
        "* Day number increments for each subsequent school day (1, 2, 3, 4, 5), it start from 1 after reaching 5, and it skips all non-school days (weekends, holidays, PA days, board breaks).\n",
        "* Filled with values from 1 to 5 for all regular school days ('School_Day' = True)\n",
        "* Not filled for all other days\n",
        "\n",
        "**Overall_Day_Count**: The overall number of the school day from first day to last day.\n",
        "* Starts with 1 on the first school day\n",
        "* Increments for each subsequent school day until the last school day, counting how many school days there are in the current school year\n",
        "* Filled with values 1+ for all regular school days ('School_Day' = True)\n",
        "* Not filled for all other days\n",
        "\n",
        "**Calendar_Display**: A string for representing the day in the resulting calendar.\n",
        "* For school days ('Type_of_Day' = 'School Day') is filled with 'Day '+ Day_Number. Possible values: 'Day 1', 'Day 2', 'Day 3', 'Day 4', 'Day 5'\n",
        "* For non-school weekdays ('Type_of_Day' in ['PA Day', 'Holiday', 'Board Break'] is filled with the value of Label\n",
        "* For weekends ('Type_of_Day' = 'Weekend') is not filled.\n",
        "\n",
        "**Day_Number**: Day number 1 to 5.\n",
        "* A string filled with  'Day '+ Day_Number. Possible values: 'Day 1', 'Day 2', 'Day 3', 'Day 4', 'Day 5'\n",
        "\n",
        "**Begin_Time**: Time when an activity begins.\n",
        "* Local time (America/Toronto)\n",
        "\n",
        "**Begin_Time_UTC**: Time when an activity begins in UTC.\n",
        "* UTC time\n",
        "\n",
        "**End_Time**: Time when an activity ends.\n",
        "* Local time (America/Toronto)\n",
        "\n",
        "**End_Time_UTC**: Time when an activity ends in UTC.\n",
        "* UTC time\n",
        "\n",
        "**Activity**: A string describing class activity / lesson."
      ],
      "metadata": {
        "id": "i8zR1qMuZMcl"
      }
    },
    {
      "cell_type": "markdown",
      "source": [
        "## Run code"
      ],
      "metadata": {
        "id": "Pi7prNmOsjsP"
      }
    },
    {
      "cell_type": "markdown",
      "source": [
        "### Import libraries"
      ],
      "metadata": {
        "id": "Ix-xVfL1VNaY"
      }
    },
    {
      "cell_type": "code",
      "source": [
        "# Install ics library to work with iCalendar format\n",
        "!pip install ics"
      ],
      "metadata": {
        "colab": {
          "base_uri": "https://localhost:8080/"
        },
        "id": "HlNECqb6UOfI",
        "outputId": "c3ab5c6b-5553-4ded-88b4-97e8d73051e0"
      },
      "execution_count": 7,
      "outputs": [
        {
          "output_type": "stream",
          "name": "stdout",
          "text": [
            "Collecting ics\n",
            "  Downloading ics-0.7.2-py2.py3-none-any.whl.metadata (4.2 kB)\n",
            "Requirement already satisfied: python-dateutil in /usr/local/lib/python3.12/dist-packages (from ics) (2.9.0.post0)\n",
            "Requirement already satisfied: arrow>=0.11 in /usr/local/lib/python3.12/dist-packages (from ics) (1.3.0)\n",
            "Requirement already satisfied: six>1.5 in /usr/local/lib/python3.12/dist-packages (from ics) (1.17.0)\n",
            "Collecting tatsu>4.2 (from ics)\n",
            "  Downloading TatSu-5.13.1-py3-none-any.whl.metadata (14 kB)\n",
            "Requirement already satisfied: attrs>=19.1.0 in /usr/local/lib/python3.12/dist-packages (from ics) (25.3.0)\n",
            "Requirement already satisfied: types-python-dateutil>=2.8.10 in /usr/local/lib/python3.12/dist-packages (from arrow>=0.11->ics) (2.9.0.20250822)\n",
            "Downloading ics-0.7.2-py2.py3-none-any.whl (40 kB)\n",
            "\u001b[2K   \u001b[90m━━━━━━━━━━━━━━━━━━━━━━━━━━━━━━━━━━━━━━━━\u001b[0m \u001b[32m40.1/40.1 kB\u001b[0m \u001b[31m1.3 MB/s\u001b[0m eta \u001b[36m0:00:00\u001b[0m\n",
            "\u001b[?25hDownloading TatSu-5.13.1-py3-none-any.whl (80 kB)\n",
            "\u001b[2K   \u001b[90m━━━━━━━━━━━━━━━━━━━━━━━━━━━━━━━━━━━━━━━━\u001b[0m \u001b[32m80.2/80.2 kB\u001b[0m \u001b[31m2.3 MB/s\u001b[0m eta \u001b[36m0:00:00\u001b[0m\n",
            "\u001b[?25hInstalling collected packages: tatsu, ics\n",
            "Successfully installed ics-0.7.2 tatsu-5.13.1\n"
          ]
        }
      ]
    },
    {
      "cell_type": "code",
      "source": [
        "# Import Calendar, Event to work with calendar events in iCalendar\n",
        "from ics import Calendar, Event"
      ],
      "metadata": {
        "id": "srcCW5o6UNBo"
      },
      "execution_count": 8,
      "outputs": []
    },
    {
      "cell_type": "code",
      "source": [
        "# Import pandas\n",
        "import pandas as pd"
      ],
      "metadata": {
        "id": "0Qby2oOdn8Rd"
      },
      "execution_count": 9,
      "outputs": []
    },
    {
      "cell_type": "markdown",
      "source": [
        "### Create Day 1-5 calendars for the current year"
      ],
      "metadata": {
        "id": "B8dOmhcEVil8"
      }
    },
    {
      "cell_type": "markdown",
      "source": [
        "#### Create a dataset with dates"
      ],
      "metadata": {
        "id": "vqynSpR7ij9b"
      }
    },
    {
      "cell_type": "code",
      "execution_count": 10,
      "metadata": {
        "colab": {
          "base_uri": "https://localhost:8080/"
        },
        "id": "LVhk4nWolsHE",
        "outputId": "1e70916a-1a0a-4ec2-8ce4-0227319b8b10"
      },
      "outputs": [
        {
          "output_type": "stream",
          "name": "stdout",
          "text": [
            "          Date\n",
            "0   2025-09-02\n",
            "1   2025-09-03\n",
            "2   2025-09-04\n",
            "3   2025-09-05\n",
            "4   2025-09-06\n",
            "..         ...\n",
            "293 2026-06-22\n",
            "294 2026-06-23\n",
            "295 2026-06-24\n",
            "296 2026-06-25\n",
            "297 2026-06-26\n",
            "\n",
            "[298 rows x 1 columns]\n"
          ]
        }
      ],
      "source": [
        "# Create a main series of days between the start and end of school\n",
        "\n",
        "# Create the date range\n",
        "date_series = pd.date_range(start=start_date, end=end_date, freq='D')\n",
        "\n",
        "# Create a DataFrame with \"Date\" as the column name\n",
        "df_year_dates = pd.DataFrame({'Date': date_series})\n",
        "\n",
        "# Display the DataFrame\n",
        "print(df_year_dates)"
      ]
    },
    {
      "cell_type": "code",
      "source": [
        "# Create a series of PA days\n",
        "\n",
        "# Create a range of PA days dates\n",
        "date_series_pa = pd.to_datetime(pa_dates)\n",
        "\n",
        "# Create a dataframe with School Day and Type Of Day filled\n",
        "df_pa_days = pd.DataFrame({'Date': date_series_pa, 'School_Day': False, 'Type_of_Day': 'PA Day', 'Label': 'PA Day'})\n",
        "print (df_pa_days)"
      ],
      "metadata": {
        "colab": {
          "base_uri": "https://localhost:8080/"
        },
        "id": "jikTjVCyoSY9",
        "outputId": "8575ce8c-241c-4cc9-e03b-2081e58012da"
      },
      "execution_count": 11,
      "outputs": [
        {
          "output_type": "stream",
          "name": "stdout",
          "text": [
            "        Date  School_Day Type_of_Day   Label\n",
            "0 2025-09-26       False      PA Day  PA Day\n",
            "1 2025-10-10       False      PA Day  PA Day\n",
            "2 2025-11-14       False      PA Day  PA Day\n",
            "3 2026-01-16       False      PA Day  PA Day\n",
            "4 2026-02-13       False      PA Day  PA Day\n",
            "5 2026-06-05       False      PA Day  PA Day\n",
            "6 2026-06-26       False      PA Day  PA Day\n"
          ]
        }
      ]
    },
    {
      "cell_type": "code",
      "source": [
        "# Create a DataFrame for Holidays\n",
        "\n",
        "df_holiday_dates = pd.DataFrame([line.split(':') for line in holiday_dates], columns=['Label', 'Date'])\n",
        "df_holiday_dates['Date'] = pd.to_datetime(df_holiday_dates['Date'])\n",
        "df_holiday_dates['School_Day'] = False\n",
        "df_holiday_dates['Type_of_Day'] = 'Holiday'\n",
        "df_holiday_dates = df_holiday_dates[['Date', 'School_Day', 'Type_of_Day', 'Label']]\n",
        "\n",
        "print(df_holiday_dates)\n"
      ],
      "metadata": {
        "colab": {
          "base_uri": "https://localhost:8080/"
        },
        "id": "g0vCEghCuDFZ",
        "outputId": "782a160a-0c55-416a-ebbc-433965fc95dc"
      },
      "execution_count": 12,
      "outputs": [
        {
          "output_type": "stream",
          "name": "stdout",
          "text": [
            "        Date  School_Day Type_of_Day          Label\n",
            "0 2025-09-01       False     Holiday     Labour Day\n",
            "1 2025-10-13       False     Holiday   Thanksgiving\n",
            "2 2026-02-16       False     Holiday     Family Day\n",
            "3 2026-04-03       False     Holiday    Good Friday\n",
            "4 2026-04-06       False     Holiday  Easter Monday\n",
            "5 2026-05-18       False     Holiday   Victoria Day\n"
          ]
        }
      ]
    },
    {
      "cell_type": "code",
      "source": [
        "# Create a series of board breaks\n",
        "\n",
        "# Initialize an empty list to store DataFrames\n",
        "break_dataframes = []\n",
        "\n",
        "# Process each item in the break_dates array\n",
        "for date_entry in break_dates:\n",
        "    label, start_date, end_date = date_entry.split(': ')\n",
        "\n",
        "    # Create a date range between the start and end dates of the current break\n",
        "    date_range = pd.date_range(start=start_date, end=end_date)\n",
        "\n",
        "    # Create a DataFrame for the date range\n",
        "    df = pd.DataFrame({'Date': pd.to_datetime(date_range), 'Label': label})\n",
        "\n",
        "    # Append the DataFrame to the list\n",
        "    break_dataframes.append(df)\n",
        "\n",
        "# Concatenate (union) all DataFrames into one\n",
        "final_break_df = pd.concat(break_dataframes, ignore_index=True)\n",
        "\n",
        "\n",
        "final_break_df ['School_Day'] = False\n",
        "final_break_df ['Type_of_Day'] = 'Board Break'\n",
        "\n",
        "df_break_dates = final_break_df[['Date', 'School_Day', 'Type_of_Day', 'Label']]\n",
        "# Display the final DataFrame\n",
        "print(final_break_df)"
      ],
      "metadata": {
        "colab": {
          "base_uri": "https://localhost:8080/"
        },
        "id": "DhqOCfRAvJiK",
        "outputId": "dfe5daa7-0dab-428a-a2b3-0e23c8d605ea"
      },
      "execution_count": 13,
      "outputs": [
        {
          "output_type": "stream",
          "name": "stdout",
          "text": [
            "         Date             Label  School_Day  Type_of_Day\n",
            "0  2025-12-22      Winter Break       False  Board Break\n",
            "1  2025-12-23      Winter Break       False  Board Break\n",
            "2  2025-12-24      Winter Break       False  Board Break\n",
            "3  2025-12-25      Winter Break       False  Board Break\n",
            "4  2025-12-26      Winter Break       False  Board Break\n",
            "5  2025-12-27      Winter Break       False  Board Break\n",
            "6  2025-12-28      Winter Break       False  Board Break\n",
            "7  2025-12-29      Winter Break       False  Board Break\n",
            "8  2025-12-30      Winter Break       False  Board Break\n",
            "9  2025-12-31      Winter Break       False  Board Break\n",
            "10 2026-01-01      Winter Break       False  Board Break\n",
            "11 2026-01-02      Winter Break       False  Board Break\n",
            "12 2026-03-16  Mid-Winter Break       False  Board Break\n",
            "13 2026-03-17  Mid-Winter Break       False  Board Break\n",
            "14 2026-03-18  Mid-Winter Break       False  Board Break\n",
            "15 2026-03-19  Mid-Winter Break       False  Board Break\n",
            "16 2026-03-20  Mid-Winter Break       False  Board Break\n"
          ]
        }
      ]
    },
    {
      "cell_type": "code",
      "source": [
        "# Create the final dataframe with all no school days\n",
        "\n",
        "df_noschool_dates = pd.concat([df_pa_days, df_holiday_dates, df_break_dates], ignore_index = True)\n",
        "# df_noschool_dates = pd.concat([df_pa_days, df_holiday_dates], ignore_index = True)\n",
        "\n",
        "print(df_noschool_dates)"
      ],
      "metadata": {
        "colab": {
          "base_uri": "https://localhost:8080/"
        },
        "id": "RQpGuJUzwu6d",
        "outputId": "0eaafe13-d7f9-4c98-c64f-c4153c453f22"
      },
      "execution_count": 14,
      "outputs": [
        {
          "output_type": "stream",
          "name": "stdout",
          "text": [
            "         Date  School_Day  Type_of_Day             Label\n",
            "0  2025-09-26       False       PA Day            PA Day\n",
            "1  2025-10-10       False       PA Day            PA Day\n",
            "2  2025-11-14       False       PA Day            PA Day\n",
            "3  2026-01-16       False       PA Day            PA Day\n",
            "4  2026-02-13       False       PA Day            PA Day\n",
            "5  2026-06-05       False       PA Day            PA Day\n",
            "6  2026-06-26       False       PA Day            PA Day\n",
            "7  2025-09-01       False      Holiday        Labour Day\n",
            "8  2025-10-13       False      Holiday      Thanksgiving\n",
            "9  2026-02-16       False      Holiday        Family Day\n",
            "10 2026-04-03       False      Holiday       Good Friday\n",
            "11 2026-04-06       False      Holiday     Easter Monday\n",
            "12 2026-05-18       False      Holiday      Victoria Day\n",
            "13 2025-12-22       False  Board Break      Winter Break\n",
            "14 2025-12-23       False  Board Break      Winter Break\n",
            "15 2025-12-24       False  Board Break      Winter Break\n",
            "16 2025-12-25       False  Board Break      Winter Break\n",
            "17 2025-12-26       False  Board Break      Winter Break\n",
            "18 2025-12-27       False  Board Break      Winter Break\n",
            "19 2025-12-28       False  Board Break      Winter Break\n",
            "20 2025-12-29       False  Board Break      Winter Break\n",
            "21 2025-12-30       False  Board Break      Winter Break\n",
            "22 2025-12-31       False  Board Break      Winter Break\n",
            "23 2026-01-01       False  Board Break      Winter Break\n",
            "24 2026-01-02       False  Board Break      Winter Break\n",
            "25 2026-03-16       False  Board Break  Mid-Winter Break\n",
            "26 2026-03-17       False  Board Break  Mid-Winter Break\n",
            "27 2026-03-18       False  Board Break  Mid-Winter Break\n",
            "28 2026-03-19       False  Board Break  Mid-Winter Break\n",
            "29 2026-03-20       False  Board Break  Mid-Winter Break\n"
          ]
        }
      ]
    },
    {
      "cell_type": "code",
      "source": [
        "# Create a dataset with all dates and information from the no school ranges\n",
        "\n",
        "df_all_dates = pd.merge(df_year_dates, df_noschool_dates, on='Date', how='left', suffixes=('_left', '_right'))\n",
        "\n",
        "# Add day of week\n",
        "df_all_dates['Day_of_Week'] = df_all_dates['Date'].dt.day_name()\n",
        "\n"
      ],
      "metadata": {
        "id": "PXo28aSSzRwc"
      },
      "execution_count": 15,
      "outputs": []
    },
    {
      "cell_type": "code",
      "source": [
        "# peek inside\n",
        "\n",
        "print(df_all_dates[df_all_dates['Date']=='2025-06-30'])"
      ],
      "metadata": {
        "colab": {
          "base_uri": "https://localhost:8080/"
        },
        "id": "Pfi29QiToRjq",
        "outputId": "14b7bd47-57dc-4fbc-a362-86b46c422c4e"
      },
      "execution_count": 16,
      "outputs": [
        {
          "output_type": "stream",
          "name": "stdout",
          "text": [
            "Empty DataFrame\n",
            "Columns: [Date, School_Day, Type_of_Day, Label, Day_of_Week]\n",
            "Index: []\n"
          ]
        }
      ]
    },
    {
      "cell_type": "code",
      "source": [
        "# Fill in regular school days and weekends\n",
        "\n",
        "# Update rows where Day_of_Week is Saturday or Sunday\n",
        "df_all_dates.loc[(df_all_dates['Day_of_Week'] == 'Saturday') | (df_all_dates['Day_of_Week'] == 'Sunday'), 'School_Day'] = False\n",
        "df_all_dates.loc[(df_all_dates['Day_of_Week'] == 'Saturday') | (df_all_dates['Day_of_Week'] == 'Sunday'), 'Type_of_Day'] = 'Weekend'\n",
        "\n",
        "# Update rows where School_Day is not equal to False\n",
        "df_all_dates.loc[df_all_dates['School_Day'] != False, 'School_Day'] = True\n",
        "df_all_dates.loc[df_all_dates['School_Day'] == True, 'Type_of_Day'] = 'School Day'\n",
        "\n",
        "print(df_all_dates.head(50))"
      ],
      "metadata": {
        "colab": {
          "base_uri": "https://localhost:8080/"
        },
        "id": "YM23NTNZ19gW",
        "outputId": "e7d5a593-7882-426b-d91e-d314118073c0"
      },
      "execution_count": 17,
      "outputs": [
        {
          "output_type": "stream",
          "name": "stdout",
          "text": [
            "         Date School_Day Type_of_Day         Label Day_of_Week\n",
            "0  2025-09-02       True  School Day           NaN     Tuesday\n",
            "1  2025-09-03       True  School Day           NaN   Wednesday\n",
            "2  2025-09-04       True  School Day           NaN    Thursday\n",
            "3  2025-09-05       True  School Day           NaN      Friday\n",
            "4  2025-09-06      False     Weekend           NaN    Saturday\n",
            "5  2025-09-07      False     Weekend           NaN      Sunday\n",
            "6  2025-09-08       True  School Day           NaN      Monday\n",
            "7  2025-09-09       True  School Day           NaN     Tuesday\n",
            "8  2025-09-10       True  School Day           NaN   Wednesday\n",
            "9  2025-09-11       True  School Day           NaN    Thursday\n",
            "10 2025-09-12       True  School Day           NaN      Friday\n",
            "11 2025-09-13      False     Weekend           NaN    Saturday\n",
            "12 2025-09-14      False     Weekend           NaN      Sunday\n",
            "13 2025-09-15       True  School Day           NaN      Monday\n",
            "14 2025-09-16       True  School Day           NaN     Tuesday\n",
            "15 2025-09-17       True  School Day           NaN   Wednesday\n",
            "16 2025-09-18       True  School Day           NaN    Thursday\n",
            "17 2025-09-19       True  School Day           NaN      Friday\n",
            "18 2025-09-20      False     Weekend           NaN    Saturday\n",
            "19 2025-09-21      False     Weekend           NaN      Sunday\n",
            "20 2025-09-22       True  School Day           NaN      Monday\n",
            "21 2025-09-23       True  School Day           NaN     Tuesday\n",
            "22 2025-09-24       True  School Day           NaN   Wednesday\n",
            "23 2025-09-25       True  School Day           NaN    Thursday\n",
            "24 2025-09-26      False      PA Day        PA Day      Friday\n",
            "25 2025-09-27      False     Weekend           NaN    Saturday\n",
            "26 2025-09-28      False     Weekend           NaN      Sunday\n",
            "27 2025-09-29       True  School Day           NaN      Monday\n",
            "28 2025-09-30       True  School Day           NaN     Tuesday\n",
            "29 2025-10-01       True  School Day           NaN   Wednesday\n",
            "30 2025-10-02       True  School Day           NaN    Thursday\n",
            "31 2025-10-03       True  School Day           NaN      Friday\n",
            "32 2025-10-04      False     Weekend           NaN    Saturday\n",
            "33 2025-10-05      False     Weekend           NaN      Sunday\n",
            "34 2025-10-06       True  School Day           NaN      Monday\n",
            "35 2025-10-07       True  School Day           NaN     Tuesday\n",
            "36 2025-10-08       True  School Day           NaN   Wednesday\n",
            "37 2025-10-09       True  School Day           NaN    Thursday\n",
            "38 2025-10-10      False      PA Day        PA Day      Friday\n",
            "39 2025-10-11      False     Weekend           NaN    Saturday\n",
            "40 2025-10-12      False     Weekend           NaN      Sunday\n",
            "41 2025-10-13      False     Holiday  Thanksgiving      Monday\n",
            "42 2025-10-14       True  School Day           NaN     Tuesday\n",
            "43 2025-10-15       True  School Day           NaN   Wednesday\n",
            "44 2025-10-16       True  School Day           NaN    Thursday\n",
            "45 2025-10-17       True  School Day           NaN      Friday\n",
            "46 2025-10-18      False     Weekend           NaN    Saturday\n",
            "47 2025-10-19      False     Weekend           NaN      Sunday\n",
            "48 2025-10-20       True  School Day           NaN      Monday\n",
            "49 2025-10-21       True  School Day           NaN     Tuesday\n"
          ]
        }
      ]
    },
    {
      "cell_type": "code",
      "source": [
        "# Assign day numbers for school days\n",
        "\n",
        "# Sort by Date first\n",
        "df_all_dates = df_all_dates.sort_values(by='Date', ascending=True)\n",
        "\n",
        "# Initialize variables for day number and day count\n",
        "day_number = 0\n",
        "day_count = 0\n",
        "all_day_count = 0\n",
        "\n",
        "# Create a list to store the Day_Number values\n",
        "day_numbers = []\n",
        "all_day_numbers = []\n",
        "\n",
        "# Iterate through the rows of the DataFrame\n",
        "for _, row in df_all_dates.iterrows():\n",
        "    if row['School_Day'] == True:\n",
        "        all_day_count += 1\n",
        "        all_day_number = all_day_count\n",
        "        day_count += 1\n",
        "        if day_count > 5:\n",
        "          day_count = 1\n",
        "        day_number = day_count\n",
        "    else:\n",
        "        day_number = None\n",
        "        all_day_number = None\n",
        "    day_numbers.append(day_number)\n",
        "    all_day_numbers.append(all_day_number)\n",
        "\n",
        "# Add the Day_Number column to the DataFrame\n",
        "df_all_dates['Day_Number'] = day_numbers\n",
        "df_all_dates['Overall_Day_Count'] = all_day_numbers\n",
        "\n",
        "# Display the updated DataFrame\n",
        "print(df_all_dates.head(100))"
      ],
      "metadata": {
        "colab": {
          "base_uri": "https://localhost:8080/"
        },
        "id": "D0kWwBvt3VBR",
        "outputId": "bf503f86-2e28-434f-ff38-746541d2a913"
      },
      "execution_count": 18,
      "outputs": [
        {
          "output_type": "stream",
          "name": "stdout",
          "text": [
            "         Date School_Day Type_of_Day Label Day_of_Week  Day_Number  \\\n",
            "0  2025-09-02       True  School Day   NaN     Tuesday         1.0   \n",
            "1  2025-09-03       True  School Day   NaN   Wednesday         2.0   \n",
            "2  2025-09-04       True  School Day   NaN    Thursday         3.0   \n",
            "3  2025-09-05       True  School Day   NaN      Friday         4.0   \n",
            "4  2025-09-06      False     Weekend   NaN    Saturday         NaN   \n",
            "..        ...        ...         ...   ...         ...         ...   \n",
            "95 2025-12-06      False     Weekend   NaN    Saturday         NaN   \n",
            "96 2025-12-07      False     Weekend   NaN      Sunday         NaN   \n",
            "97 2025-12-08       True  School Day   NaN      Monday         1.0   \n",
            "98 2025-12-09       True  School Day   NaN     Tuesday         2.0   \n",
            "99 2025-12-10       True  School Day   NaN   Wednesday         3.0   \n",
            "\n",
            "    Overall_Day_Count  \n",
            "0                 1.0  \n",
            "1                 2.0  \n",
            "2                 3.0  \n",
            "3                 4.0  \n",
            "4                 NaN  \n",
            "..                ...  \n",
            "95                NaN  \n",
            "96                NaN  \n",
            "97               66.0  \n",
            "98               67.0  \n",
            "99               68.0  \n",
            "\n",
            "[100 rows x 7 columns]\n"
          ]
        }
      ]
    },
    {
      "cell_type": "code",
      "source": [
        "print(df_all_dates.head(301))"
      ],
      "metadata": {
        "colab": {
          "base_uri": "https://localhost:8080/"
        },
        "id": "blkJRB9xdKw7",
        "outputId": "cd1c6b49-0a6c-4fc6-e4e5-26e2d8d2f853"
      },
      "execution_count": 19,
      "outputs": [
        {
          "output_type": "stream",
          "name": "stdout",
          "text": [
            "          Date School_Day Type_of_Day   Label Day_of_Week  Day_Number  \\\n",
            "0   2025-09-02       True  School Day     NaN     Tuesday         1.0   \n",
            "1   2025-09-03       True  School Day     NaN   Wednesday         2.0   \n",
            "2   2025-09-04       True  School Day     NaN    Thursday         3.0   \n",
            "3   2025-09-05       True  School Day     NaN      Friday         4.0   \n",
            "4   2025-09-06      False     Weekend     NaN    Saturday         NaN   \n",
            "..         ...        ...         ...     ...         ...         ...   \n",
            "293 2026-06-22       True  School Day     NaN      Monday         4.0   \n",
            "294 2026-06-23       True  School Day     NaN     Tuesday         5.0   \n",
            "295 2026-06-24       True  School Day     NaN   Wednesday         1.0   \n",
            "296 2026-06-25       True  School Day     NaN    Thursday         2.0   \n",
            "297 2026-06-26      False      PA Day  PA Day      Friday         NaN   \n",
            "\n",
            "     Overall_Day_Count  \n",
            "0                  1.0  \n",
            "1                  2.0  \n",
            "2                  3.0  \n",
            "3                  4.0  \n",
            "4                  NaN  \n",
            "..                 ...  \n",
            "293              184.0  \n",
            "294              185.0  \n",
            "295              186.0  \n",
            "296              187.0  \n",
            "297                NaN  \n",
            "\n",
            "[298 rows x 7 columns]\n"
          ]
        }
      ]
    },
    {
      "cell_type": "code",
      "source": [
        "# Define function to fill value for Calendar_Display\n",
        "\n",
        "def create_calendar_display(row):\n",
        "    if row['Type_of_Day'] == 'School Day':\n",
        "        return \"Day \" + str(int(row['Day_Number']))\n",
        "    elif (row['Type_of_Day'] != 'No school day') & (row['Type_of_Day']!='Weekend'):\n",
        "        return row['Label']\n",
        "    else:\n",
        "        return None\n",
        "\n",
        "\n",
        "# Add calendar display row to manage how an entry looks in a calendar\n",
        "df_all_dates['Calendar_Display'] = df_all_dates.apply(create_calendar_display, axis=1)\n",
        "\n",
        "print(df_all_dates.head(50))"
      ],
      "metadata": {
        "colab": {
          "base_uri": "https://localhost:8080/"
        },
        "id": "lSXgmxEDPDdA",
        "outputId": "14b1e692-a8e9-4ca5-dd57-4f350e6925b5"
      },
      "execution_count": 20,
      "outputs": [
        {
          "output_type": "stream",
          "name": "stdout",
          "text": [
            "         Date School_Day Type_of_Day         Label Day_of_Week  Day_Number  \\\n",
            "0  2025-09-02       True  School Day           NaN     Tuesday         1.0   \n",
            "1  2025-09-03       True  School Day           NaN   Wednesday         2.0   \n",
            "2  2025-09-04       True  School Day           NaN    Thursday         3.0   \n",
            "3  2025-09-05       True  School Day           NaN      Friday         4.0   \n",
            "4  2025-09-06      False     Weekend           NaN    Saturday         NaN   \n",
            "5  2025-09-07      False     Weekend           NaN      Sunday         NaN   \n",
            "6  2025-09-08       True  School Day           NaN      Monday         5.0   \n",
            "7  2025-09-09       True  School Day           NaN     Tuesday         1.0   \n",
            "8  2025-09-10       True  School Day           NaN   Wednesday         2.0   \n",
            "9  2025-09-11       True  School Day           NaN    Thursday         3.0   \n",
            "10 2025-09-12       True  School Day           NaN      Friday         4.0   \n",
            "11 2025-09-13      False     Weekend           NaN    Saturday         NaN   \n",
            "12 2025-09-14      False     Weekend           NaN      Sunday         NaN   \n",
            "13 2025-09-15       True  School Day           NaN      Monday         5.0   \n",
            "14 2025-09-16       True  School Day           NaN     Tuesday         1.0   \n",
            "15 2025-09-17       True  School Day           NaN   Wednesday         2.0   \n",
            "16 2025-09-18       True  School Day           NaN    Thursday         3.0   \n",
            "17 2025-09-19       True  School Day           NaN      Friday         4.0   \n",
            "18 2025-09-20      False     Weekend           NaN    Saturday         NaN   \n",
            "19 2025-09-21      False     Weekend           NaN      Sunday         NaN   \n",
            "20 2025-09-22       True  School Day           NaN      Monday         5.0   \n",
            "21 2025-09-23       True  School Day           NaN     Tuesday         1.0   \n",
            "22 2025-09-24       True  School Day           NaN   Wednesday         2.0   \n",
            "23 2025-09-25       True  School Day           NaN    Thursday         3.0   \n",
            "24 2025-09-26      False      PA Day        PA Day      Friday         NaN   \n",
            "25 2025-09-27      False     Weekend           NaN    Saturday         NaN   \n",
            "26 2025-09-28      False     Weekend           NaN      Sunday         NaN   \n",
            "27 2025-09-29       True  School Day           NaN      Monday         4.0   \n",
            "28 2025-09-30       True  School Day           NaN     Tuesday         5.0   \n",
            "29 2025-10-01       True  School Day           NaN   Wednesday         1.0   \n",
            "30 2025-10-02       True  School Day           NaN    Thursday         2.0   \n",
            "31 2025-10-03       True  School Day           NaN      Friday         3.0   \n",
            "32 2025-10-04      False     Weekend           NaN    Saturday         NaN   \n",
            "33 2025-10-05      False     Weekend           NaN      Sunday         NaN   \n",
            "34 2025-10-06       True  School Day           NaN      Monday         4.0   \n",
            "35 2025-10-07       True  School Day           NaN     Tuesday         5.0   \n",
            "36 2025-10-08       True  School Day           NaN   Wednesday         1.0   \n",
            "37 2025-10-09       True  School Day           NaN    Thursday         2.0   \n",
            "38 2025-10-10      False      PA Day        PA Day      Friday         NaN   \n",
            "39 2025-10-11      False     Weekend           NaN    Saturday         NaN   \n",
            "40 2025-10-12      False     Weekend           NaN      Sunday         NaN   \n",
            "41 2025-10-13      False     Holiday  Thanksgiving      Monday         NaN   \n",
            "42 2025-10-14       True  School Day           NaN     Tuesday         3.0   \n",
            "43 2025-10-15       True  School Day           NaN   Wednesday         4.0   \n",
            "44 2025-10-16       True  School Day           NaN    Thursday         5.0   \n",
            "45 2025-10-17       True  School Day           NaN      Friday         1.0   \n",
            "46 2025-10-18      False     Weekend           NaN    Saturday         NaN   \n",
            "47 2025-10-19      False     Weekend           NaN      Sunday         NaN   \n",
            "48 2025-10-20       True  School Day           NaN      Monday         2.0   \n",
            "49 2025-10-21       True  School Day           NaN     Tuesday         3.0   \n",
            "\n",
            "    Overall_Day_Count Calendar_Display  \n",
            "0                 1.0            Day 1  \n",
            "1                 2.0            Day 2  \n",
            "2                 3.0            Day 3  \n",
            "3                 4.0            Day 4  \n",
            "4                 NaN             None  \n",
            "5                 NaN             None  \n",
            "6                 5.0            Day 5  \n",
            "7                 6.0            Day 1  \n",
            "8                 7.0            Day 2  \n",
            "9                 8.0            Day 3  \n",
            "10                9.0            Day 4  \n",
            "11                NaN             None  \n",
            "12                NaN             None  \n",
            "13               10.0            Day 5  \n",
            "14               11.0            Day 1  \n",
            "15               12.0            Day 2  \n",
            "16               13.0            Day 3  \n",
            "17               14.0            Day 4  \n",
            "18                NaN             None  \n",
            "19                NaN             None  \n",
            "20               15.0            Day 5  \n",
            "21               16.0            Day 1  \n",
            "22               17.0            Day 2  \n",
            "23               18.0            Day 3  \n",
            "24                NaN           PA Day  \n",
            "25                NaN             None  \n",
            "26                NaN             None  \n",
            "27               19.0            Day 4  \n",
            "28               20.0            Day 5  \n",
            "29               21.0            Day 1  \n",
            "30               22.0            Day 2  \n",
            "31               23.0            Day 3  \n",
            "32                NaN             None  \n",
            "33                NaN             None  \n",
            "34               24.0            Day 4  \n",
            "35               25.0            Day 5  \n",
            "36               26.0            Day 1  \n",
            "37               27.0            Day 2  \n",
            "38                NaN           PA Day  \n",
            "39                NaN             None  \n",
            "40                NaN             None  \n",
            "41                NaN     Thanksgiving  \n",
            "42               28.0            Day 3  \n",
            "43               29.0            Day 4  \n",
            "44               30.0            Day 5  \n",
            "45               31.0            Day 1  \n",
            "46                NaN             None  \n",
            "47                NaN             None  \n",
            "48               32.0            Day 2  \n",
            "49               33.0            Day 3  \n"
          ]
        }
      ]
    },
    {
      "cell_type": "markdown",
      "source": [
        "#### Create iCalendar export files"
      ],
      "metadata": {
        "id": "3-_JhMa3uHv_"
      }
    },
    {
      "cell_type": "code",
      "source": [
        "# Create iCalendar objects\n",
        "cal_school = Calendar() # a calendar for all school weekdays (only regular school days)\n",
        "cal_no_school = Calendar() # a calendar for all non-school weekdays (only PA days, holidays, breaks)\n",
        "cal_all = Calendar() # a calendar for all weekdays (both school and non-school days)\n",
        "\n",
        "# Iterate through the DataFrame to create events\n",
        "for _, row in df_all_dates.iterrows():\n",
        "    if (row['Calendar_Display'] is not None) :\n",
        "        event = Event()\n",
        "        event.name = row['Calendar_Display']\n",
        "        event.begin = row['Date']  # Set the event date\n",
        "        event.end = row['Date'] # Set the end date\n",
        "        event.make_all_day()  # Make the event an all-day event\n",
        "\n",
        "        # Add the event to one of two calendars\n",
        "        if (row['School_Day']==True):\n",
        "          cal_school.events.add(event)\n",
        "        else:\n",
        "          cal_no_school.events.add(event)\n",
        "\n",
        "        cal_all.events.add(event)\n",
        "\n",
        "\n",
        "# Save the iCalendar data to files\n",
        "with open('calendar_school_days.ics', 'w') as f:\n",
        "    f.writelines(cal_school.serialize_iter())\n",
        "\n",
        "with open('calendar_no_school_days.ics', 'w') as f:\n",
        "    f.writelines(cal_no_school.serialize_iter())\n",
        "\n",
        "with open('calendar_all.ics', 'w') as f:\n",
        "    f.writelines(cal_all.serialize_iter())\n",
        "\n",
        "print(\"iCalendar file created: calendar_school_days.ics, calendar_no_school_days.ics, calendar_all.ics\")"
      ],
      "metadata": {
        "colab": {
          "base_uri": "https://localhost:8080/"
        },
        "id": "pmo5N84_UULW",
        "outputId": "bcf56b3d-7805-443b-d2aa-cf0e789128af"
      },
      "execution_count": 21,
      "outputs": [
        {
          "output_type": "stream",
          "name": "stdout",
          "text": [
            "iCalendar file created: calendar_school_days.ics, calendar_no_school_days.ics, calendar_all.ics\n"
          ]
        }
      ]
    },
    {
      "cell_type": "markdown",
      "source": [
        "### Create a daily schedule based on the Day 1-5 calendar"
      ],
      "metadata": {
        "id": "2hSbxTK0V55h"
      }
    },
    {
      "cell_type": "markdown",
      "source": [
        "#### Create a dataset with dates, times and activities"
      ],
      "metadata": {
        "id": "7SDpo9AlwBLE"
      }
    },
    {
      "cell_type": "code",
      "source": [
        "# Create a DataFrame out of schedule data\n",
        "df_day_schedule = pd.DataFrame (schedule_data, columns = ['Day_Number', 'Begin_Time', 'End_Time', 'Activity'])\n",
        "\n",
        "print(df_day_schedule)"
      ],
      "metadata": {
        "id": "FsoKrGKuYdtd",
        "colab": {
          "base_uri": "https://localhost:8080/"
        },
        "outputId": "e7e70964-2be1-4578-c627-76eafd97fc15"
      },
      "execution_count": 22,
      "outputs": [
        {
          "output_type": "stream",
          "name": "stdout",
          "text": [
            "   Day_Number Begin_Time  End_Time  \\\n",
            "0       Day 1   08:55:00  09:00:00   \n",
            "1       Day 1   09:00:00  09:20:00   \n",
            "2       Day 1   11:30:00  12:00:00   \n",
            "3       Day 1   14:45:00  15:15:00   \n",
            "4       Day 2   08:55:00  09:00:00   \n",
            "5       Day 2   09:00:00  09:20:00   \n",
            "6       Day 2   11:30:00  12:00:00   \n",
            "7       Day 2   14:45:00  15:15:00   \n",
            "8       Day 3   08:55:00  09:00:00   \n",
            "9       Day 3   09:00:00  09:20:00   \n",
            "10      Day 3   11:30:00  12:00:00   \n",
            "11      Day 3   14:45:00  15:15:00   \n",
            "12      Day 4   08:55:00  09:00:00   \n",
            "13      Day 4   09:00:00  09:20:00   \n",
            "14      Day 4   11:30:00  12:00:00   \n",
            "15      Day 4   14:45:00  15:15:00   \n",
            "16      Day 5   08:55:00  09:00:00   \n",
            "17      Day 5   09:00:00  09:20:00   \n",
            "18      Day 5   11:30:00  12:00:00   \n",
            "19      Day 5   14:45:00  15:15:00   \n",
            "\n",
            "                                             Activity  \n",
            "0                                          Attendance  \n",
            "1                        Entry, Circle Time, Calendar  \n",
            "2                                               Lunch  \n",
            "3   Outdoor Play / Dismissal 3:10 Ready for Dismissal  \n",
            "4                                          Attendance  \n",
            "5                        Entry, Circle Time, Calendar  \n",
            "6                                               Lunch  \n",
            "7   Outdoor Play / Dismissal 3:10 Ready for Dismissal  \n",
            "8                                          Attendance  \n",
            "9                        Entry, Circle Time, Calendar  \n",
            "10                                              Lunch  \n",
            "11  Outdoor Play / Dismissal 3:10 Ready for Dismissal  \n",
            "12                                         Attendance  \n",
            "13                       Entry, Circle Time, Calendar  \n",
            "14                                              Lunch  \n",
            "15  Outdoor Play / Dismissal 3:10 Ready for Dismissal  \n",
            "16                                         Attendance  \n",
            "17                       Entry, Circle Time, Calendar  \n",
            "18                                              Lunch  \n",
            "19  Outdoor Play / Dismissal 3:10 Ready for Dismissal  \n"
          ]
        }
      ]
    },
    {
      "cell_type": "code",
      "source": [
        "# Prepare school year schedule and daily schedule for join using 'Calendar_Display' = 'Day_Number'\n",
        "df_day_schedule['Calendar_Display'] = df_day_schedule['Day_Number']\n",
        "\n",
        "# Keep only school weekdays in the daily schedule scope (see Input Parameters)\n",
        "start_schedule_date = pd.to_datetime(start_schedule)\n",
        "end_schedule_date = pd.to_datetime(end_schedule)\n",
        "\n",
        "df_schedule_dates = df_all_dates[(df_all_dates['Date']<= end_schedule_date) &\n",
        " (df_all_dates['Date']>=start_schedule_date) & (df_all_dates['School_Day']==True)]\n",
        "\n",
        "# Left join school year schedule and daily schedule\n",
        "df_all_schedule = pd.merge(df_schedule_dates, df_day_schedule, on='Calendar_Display', how='left', suffixes=('_left', '_right'))\n",
        "df_all_schedule = df_all_schedule[['Date', 'Calendar_Display', 'Begin_Time', 'End_Time', 'Activity']]\n",
        "\n",
        "# Make a date time out of a Date and Time for begin and end of activities\n",
        "df_all_schedule['Begin_Time'] = df_all_schedule ['Date'].dt.strftime('%Y-%m-%d') + ' ' + df_all_schedule['Begin_Time']\n",
        "df_all_schedule['Begin_Time'] = pd.to_datetime(df_all_schedule['Begin_Time'])\n",
        "\n",
        "df_all_schedule['End_Time'] = df_all_schedule ['Date'].dt.strftime('%Y-%m-%d') + ' ' + df_all_schedule['End_Time']\n",
        "df_all_schedule['End_Time'] = pd.to_datetime(df_all_schedule['End_Time'])\n",
        "\n",
        "print(df_all_schedule)"
      ],
      "metadata": {
        "colab": {
          "base_uri": "https://localhost:8080/"
        },
        "id": "OSTvsWFoeg2R",
        "outputId": "d30dc3b9-babb-4ace-c89b-9959d698bf01"
      },
      "execution_count": 23,
      "outputs": [
        {
          "output_type": "stream",
          "name": "stdout",
          "text": [
            "         Date Calendar_Display          Begin_Time            End_Time  \\\n",
            "0  2025-09-02            Day 1 2025-09-02 08:55:00 2025-09-02 09:00:00   \n",
            "1  2025-09-02            Day 1 2025-09-02 09:00:00 2025-09-02 09:20:00   \n",
            "2  2025-09-02            Day 1 2025-09-02 11:30:00 2025-09-02 12:00:00   \n",
            "3  2025-09-02            Day 1 2025-09-02 14:45:00 2025-09-02 15:15:00   \n",
            "4  2025-09-03            Day 2 2025-09-03 08:55:00 2025-09-03 09:00:00   \n",
            "..        ...              ...                 ...                 ...   \n",
            "75 2025-09-29            Day 4 2025-09-29 14:45:00 2025-09-29 15:15:00   \n",
            "76 2025-09-30            Day 5 2025-09-30 08:55:00 2025-09-30 09:00:00   \n",
            "77 2025-09-30            Day 5 2025-09-30 09:00:00 2025-09-30 09:20:00   \n",
            "78 2025-09-30            Day 5 2025-09-30 11:30:00 2025-09-30 12:00:00   \n",
            "79 2025-09-30            Day 5 2025-09-30 14:45:00 2025-09-30 15:15:00   \n",
            "\n",
            "                                             Activity  \n",
            "0                                          Attendance  \n",
            "1                        Entry, Circle Time, Calendar  \n",
            "2                                               Lunch  \n",
            "3   Outdoor Play / Dismissal 3:10 Ready for Dismissal  \n",
            "4                                          Attendance  \n",
            "..                                                ...  \n",
            "75  Outdoor Play / Dismissal 3:10 Ready for Dismissal  \n",
            "76                                         Attendance  \n",
            "77                       Entry, Circle Time, Calendar  \n",
            "78                                              Lunch  \n",
            "79  Outdoor Play / Dismissal 3:10 Ready for Dismissal  \n",
            "\n",
            "[80 rows x 5 columns]\n"
          ]
        }
      ]
    },
    {
      "cell_type": "code",
      "source": [
        "# Working with timezones\n",
        "\n",
        "# Make the dataset timezone-aware\n",
        "df_all_schedule['Begin_Time'] = df_all_schedule['Begin_Time'].dt.tz_localize('America/Toronto')\n",
        "df_all_schedule['End_Time'] = df_all_schedule['End_Time'].dt.tz_localize('America/Toronto')\n",
        "\n",
        "# Covert datetimes into UTC for the iCalendar format\n",
        "df_all_schedule['Begin_Time_UTC'] = df_all_schedule['Begin_Time'].dt.tz_convert('UTC')\n",
        "df_all_schedule['End_Time_UTC'] = df_all_schedule['End_Time'].dt.tz_convert('UTC')"
      ],
      "metadata": {
        "id": "7g2Xl7v3oGhg"
      },
      "execution_count": 24,
      "outputs": []
    },
    {
      "cell_type": "code",
      "source": [
        "df_print_month = df_all_schedule[(df_all_schedule['Date']>'2023-10-01')&(df_all_schedule['Date']<'2023-10-31')]\n",
        "df_print_month = df_print_month[['Begin_Time', 'Begin_Time_UTC']]\n",
        "print(df_print_month)"
      ],
      "metadata": {
        "colab": {
          "base_uri": "https://localhost:8080/"
        },
        "id": "gMt4ZEQ7qTjA",
        "outputId": "a82e8e6a-b748-4b31-e403-1951ef173109"
      },
      "execution_count": 25,
      "outputs": [
        {
          "output_type": "stream",
          "name": "stdout",
          "text": [
            "Empty DataFrame\n",
            "Columns: [Begin_Time, Begin_Time_UTC]\n",
            "Index: []\n"
          ]
        }
      ]
    },
    {
      "cell_type": "markdown",
      "source": [
        "#### Create an iCalendar export file"
      ],
      "metadata": {
        "id": "GK7f5UCmxOOP"
      }
    },
    {
      "cell_type": "code",
      "source": [
        "# Create an iCalendar object\n",
        "cal_schedule = Calendar()\n",
        "\n",
        "# Iterate through the DataFrame to create events\n",
        "for _, row in df_all_schedule.iterrows():\n",
        "    if (row['Calendar_Display'] is not None) :\n",
        "        event = Event()\n",
        "        event.name = row['Activity']\n",
        "        event.begin = row['Begin_Time_UTC']  # Set the event date\n",
        "        event.end = row['End_Time_UTC'] # Set the end date\n",
        "        cal_schedule.events.add(event)\n",
        "\n",
        "\n",
        "# Save the iCalendar data to files\n",
        "with open('calendar_schedule.ics', 'w') as f:\n",
        "    f.writelines(cal_schedule.serialize_iter())\n",
        "\n",
        "print(\"iCalendar file created: calendar_schedule.ics\")"
      ],
      "metadata": {
        "colab": {
          "base_uri": "https://localhost:8080/"
        },
        "id": "GLCPWMu4hNWP",
        "outputId": "6bb9c5a1-47a4-4392-8ec5-0ae13de726a4"
      },
      "execution_count": 26,
      "outputs": [
        {
          "output_type": "stream",
          "name": "stdout",
          "text": [
            "iCalendar file created: calendar_schedule.ics\n"
          ]
        }
      ]
    }
  ]
}